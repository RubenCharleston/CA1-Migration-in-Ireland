{
 "cells": [
  {
   "cell_type": "code",
   "execution_count": 1,
   "id": "37f9f6db",
   "metadata": {},
   "outputs": [],
   "source": [
    "import pandas as pd\n",
    "import seaborn as sns\n",
    "import matplotlib.pyplot as plt\n",
    "import numpy as np\n",
    "from scipy import stats "
   ]
  },
  {
   "cell_type": "code",
   "execution_count": 2,
   "id": "73858861",
   "metadata": {},
   "outputs": [],
   "source": [
    "dfMigration = pd.read_csv(\"Estimated_Migration.csv\")\n",
    "dfImmigration = pd.read_csv(\"Estimated_Immigration.csv\")"
   ]
  },
  {
   "cell_type": "code",
   "execution_count": 3,
   "id": "905bf1f5",
   "metadata": {},
   "outputs": [],
   "source": [
    "def label_graph(ticksfont , x_label , y_label , title_label , fontsize):\n",
    "    \n",
    "    plt.xticks(fontsize = ticksfont)\n",
    "    plt.yticks(fontsize = ticksfont)\n",
    "\n",
    "    plt.xlabel(x_label, fontsize = fontsize)\n",
    "    plt.ylabel(y_label , fontsize = fontsize)\n",
    "    plt.title(title_label, fontsize = fontsize)"
   ]
  },
  {
   "cell_type": "code",
   "execution_count": null,
   "id": "b8082307",
   "metadata": {},
   "outputs": [],
   "source": []
  },
  {
   "cell_type": "code",
   "execution_count": 4,
   "id": "e65a356c",
   "metadata": {},
   "outputs": [
    {
     "data": {
      "text/html": [
       "<div>\n",
       "<style scoped>\n",
       "    .dataframe tbody tr th:only-of-type {\n",
       "        vertical-align: middle;\n",
       "    }\n",
       "\n",
       "    .dataframe tbody tr th {\n",
       "        vertical-align: top;\n",
       "    }\n",
       "\n",
       "    .dataframe thead th {\n",
       "        text-align: right;\n",
       "    }\n",
       "</style>\n",
       "<table border=\"1\" class=\"dataframe\">\n",
       "  <thead>\n",
       "    <tr style=\"text-align: right;\">\n",
       "      <th></th>\n",
       "      <th>STATISTIC Label</th>\n",
       "      <th>Year</th>\n",
       "      <th>Age Group</th>\n",
       "      <th>Sex</th>\n",
       "      <th>Inward or Outward Flow</th>\n",
       "      <th>UNIT</th>\n",
       "      <th>VALUE</th>\n",
       "    </tr>\n",
       "  </thead>\n",
       "  <tbody>\n",
       "    <tr>\n",
       "      <th>0</th>\n",
       "      <td>Estimated Migration (Persons in April)</td>\n",
       "      <td>1987</td>\n",
       "      <td>All ages</td>\n",
       "      <td>Both sexes</td>\n",
       "      <td>Net migration</td>\n",
       "      <td>Thousand</td>\n",
       "      <td>-23.0</td>\n",
       "    </tr>\n",
       "    <tr>\n",
       "      <th>1</th>\n",
       "      <td>Estimated Migration (Persons in April)</td>\n",
       "      <td>1987</td>\n",
       "      <td>All ages</td>\n",
       "      <td>Both sexes</td>\n",
       "      <td>Emigrants: All destinations</td>\n",
       "      <td>Thousand</td>\n",
       "      <td>40.2</td>\n",
       "    </tr>\n",
       "    <tr>\n",
       "      <th>2</th>\n",
       "      <td>Estimated Migration (Persons in April)</td>\n",
       "      <td>1987</td>\n",
       "      <td>All ages</td>\n",
       "      <td>Both sexes</td>\n",
       "      <td>Immigrants: All origins</td>\n",
       "      <td>Thousand</td>\n",
       "      <td>17.2</td>\n",
       "    </tr>\n",
       "    <tr>\n",
       "      <th>3</th>\n",
       "      <td>Estimated Migration (Persons in April)</td>\n",
       "      <td>1987</td>\n",
       "      <td>All ages</td>\n",
       "      <td>Male</td>\n",
       "      <td>Net migration</td>\n",
       "      <td>Thousand</td>\n",
       "      <td>NaN</td>\n",
       "    </tr>\n",
       "    <tr>\n",
       "      <th>4</th>\n",
       "      <td>Estimated Migration (Persons in April)</td>\n",
       "      <td>1987</td>\n",
       "      <td>All ages</td>\n",
       "      <td>Male</td>\n",
       "      <td>Emigrants: All destinations</td>\n",
       "      <td>Thousand</td>\n",
       "      <td>NaN</td>\n",
       "    </tr>\n",
       "    <tr>\n",
       "      <th>5</th>\n",
       "      <td>Estimated Migration (Persons in April)</td>\n",
       "      <td>1987</td>\n",
       "      <td>All ages</td>\n",
       "      <td>Male</td>\n",
       "      <td>Immigrants: All origins</td>\n",
       "      <td>Thousand</td>\n",
       "      <td>NaN</td>\n",
       "    </tr>\n",
       "    <tr>\n",
       "      <th>6</th>\n",
       "      <td>Estimated Migration (Persons in April)</td>\n",
       "      <td>1987</td>\n",
       "      <td>All ages</td>\n",
       "      <td>Female</td>\n",
       "      <td>Net migration</td>\n",
       "      <td>Thousand</td>\n",
       "      <td>NaN</td>\n",
       "    </tr>\n",
       "    <tr>\n",
       "      <th>7</th>\n",
       "      <td>Estimated Migration (Persons in April)</td>\n",
       "      <td>1987</td>\n",
       "      <td>All ages</td>\n",
       "      <td>Female</td>\n",
       "      <td>Emigrants: All destinations</td>\n",
       "      <td>Thousand</td>\n",
       "      <td>NaN</td>\n",
       "    </tr>\n",
       "    <tr>\n",
       "      <th>8</th>\n",
       "      <td>Estimated Migration (Persons in April)</td>\n",
       "      <td>1987</td>\n",
       "      <td>All ages</td>\n",
       "      <td>Female</td>\n",
       "      <td>Immigrants: All origins</td>\n",
       "      <td>Thousand</td>\n",
       "      <td>NaN</td>\n",
       "    </tr>\n",
       "    <tr>\n",
       "      <th>9</th>\n",
       "      <td>Estimated Migration (Persons in April)</td>\n",
       "      <td>1987</td>\n",
       "      <td>0 - 14 years</td>\n",
       "      <td>Both sexes</td>\n",
       "      <td>Net migration</td>\n",
       "      <td>Thousand</td>\n",
       "      <td>NaN</td>\n",
       "    </tr>\n",
       "    <tr>\n",
       "      <th>10</th>\n",
       "      <td>Estimated Migration (Persons in April)</td>\n",
       "      <td>1987</td>\n",
       "      <td>0 - 14 years</td>\n",
       "      <td>Both sexes</td>\n",
       "      <td>Emigrants: All destinations</td>\n",
       "      <td>Thousand</td>\n",
       "      <td>2.8</td>\n",
       "    </tr>\n",
       "    <tr>\n",
       "      <th>11</th>\n",
       "      <td>Estimated Migration (Persons in April)</td>\n",
       "      <td>1987</td>\n",
       "      <td>0 - 14 years</td>\n",
       "      <td>Both sexes</td>\n",
       "      <td>Immigrants: All origins</td>\n",
       "      <td>Thousand</td>\n",
       "      <td>3.1</td>\n",
       "    </tr>\n",
       "    <tr>\n",
       "      <th>12</th>\n",
       "      <td>Estimated Migration (Persons in April)</td>\n",
       "      <td>1987</td>\n",
       "      <td>0 - 14 years</td>\n",
       "      <td>Male</td>\n",
       "      <td>Net migration</td>\n",
       "      <td>Thousand</td>\n",
       "      <td>NaN</td>\n",
       "    </tr>\n",
       "    <tr>\n",
       "      <th>13</th>\n",
       "      <td>Estimated Migration (Persons in April)</td>\n",
       "      <td>1987</td>\n",
       "      <td>0 - 14 years</td>\n",
       "      <td>Male</td>\n",
       "      <td>Emigrants: All destinations</td>\n",
       "      <td>Thousand</td>\n",
       "      <td>1.4</td>\n",
       "    </tr>\n",
       "    <tr>\n",
       "      <th>14</th>\n",
       "      <td>Estimated Migration (Persons in April)</td>\n",
       "      <td>1987</td>\n",
       "      <td>0 - 14 years</td>\n",
       "      <td>Male</td>\n",
       "      <td>Immigrants: All origins</td>\n",
       "      <td>Thousand</td>\n",
       "      <td>1.3</td>\n",
       "    </tr>\n",
       "  </tbody>\n",
       "</table>\n",
       "</div>"
      ],
      "text/plain": [
       "                           STATISTIC Label  Year     Age Group         Sex  \\\n",
       "0   Estimated Migration (Persons in April)  1987      All ages  Both sexes   \n",
       "1   Estimated Migration (Persons in April)  1987      All ages  Both sexes   \n",
       "2   Estimated Migration (Persons in April)  1987      All ages  Both sexes   \n",
       "3   Estimated Migration (Persons in April)  1987      All ages        Male   \n",
       "4   Estimated Migration (Persons in April)  1987      All ages        Male   \n",
       "5   Estimated Migration (Persons in April)  1987      All ages        Male   \n",
       "6   Estimated Migration (Persons in April)  1987      All ages      Female   \n",
       "7   Estimated Migration (Persons in April)  1987      All ages      Female   \n",
       "8   Estimated Migration (Persons in April)  1987      All ages      Female   \n",
       "9   Estimated Migration (Persons in April)  1987  0 - 14 years  Both sexes   \n",
       "10  Estimated Migration (Persons in April)  1987  0 - 14 years  Both sexes   \n",
       "11  Estimated Migration (Persons in April)  1987  0 - 14 years  Both sexes   \n",
       "12  Estimated Migration (Persons in April)  1987  0 - 14 years        Male   \n",
       "13  Estimated Migration (Persons in April)  1987  0 - 14 years        Male   \n",
       "14  Estimated Migration (Persons in April)  1987  0 - 14 years        Male   \n",
       "\n",
       "         Inward or Outward Flow      UNIT  VALUE  \n",
       "0                 Net migration  Thousand  -23.0  \n",
       "1   Emigrants: All destinations  Thousand   40.2  \n",
       "2       Immigrants: All origins  Thousand   17.2  \n",
       "3                 Net migration  Thousand    NaN  \n",
       "4   Emigrants: All destinations  Thousand    NaN  \n",
       "5       Immigrants: All origins  Thousand    NaN  \n",
       "6                 Net migration  Thousand    NaN  \n",
       "7   Emigrants: All destinations  Thousand    NaN  \n",
       "8       Immigrants: All origins  Thousand    NaN  \n",
       "9                 Net migration  Thousand    NaN  \n",
       "10  Emigrants: All destinations  Thousand    2.8  \n",
       "11      Immigrants: All origins  Thousand    3.1  \n",
       "12                Net migration  Thousand    NaN  \n",
       "13  Emigrants: All destinations  Thousand    1.4  \n",
       "14      Immigrants: All origins  Thousand    1.3  "
      ]
     },
     "execution_count": 4,
     "metadata": {},
     "output_type": "execute_result"
    }
   ],
   "source": [
    "dfMigration.head(15)"
   ]
  },
  {
   "cell_type": "code",
   "execution_count": 5,
   "id": "5ad088ea",
   "metadata": {},
   "outputs": [
    {
     "data": {
      "text/plain": [
       "(1998, 7)"
      ]
     },
     "execution_count": 5,
     "metadata": {},
     "output_type": "execute_result"
    }
   ],
   "source": [
    "dfMigration.shape"
   ]
  },
  {
   "cell_type": "code",
   "execution_count": 6,
   "id": "f8359f54",
   "metadata": {},
   "outputs": [
    {
     "data": {
      "text/plain": [
       "array(['Both sexes', 'Male', 'Female'], dtype=object)"
      ]
     },
     "execution_count": 6,
     "metadata": {},
     "output_type": "execute_result"
    }
   ],
   "source": [
    "dfMigration['Sex'].unique()"
   ]
  },
  {
   "cell_type": "code",
   "execution_count": 7,
   "id": "48ba6462",
   "metadata": {},
   "outputs": [
    {
     "data": {
      "text/plain": [
       "array(['All ages', '0 - 14 years', '15 - 24 years', '25 - 44 years',\n",
       "       '45 - 64 years', '65 years and over'], dtype=object)"
      ]
     },
     "execution_count": 7,
     "metadata": {},
     "output_type": "execute_result"
    }
   ],
   "source": [
    "dfMigration['Age Group'].unique()"
   ]
  },
  {
   "cell_type": "code",
   "execution_count": 8,
   "id": "f247cb46",
   "metadata": {},
   "outputs": [
    {
     "data": {
      "text/plain": [
       "STATISTIC Label            object\n",
       "Year                        int64\n",
       "Age Group                  object\n",
       "Sex                        object\n",
       "Inward or Outward Flow     object\n",
       "UNIT                       object\n",
       "VALUE                     float64\n",
       "dtype: object"
      ]
     },
     "execution_count": 8,
     "metadata": {},
     "output_type": "execute_result"
    }
   ],
   "source": [
    "dfMigration.dtypes"
   ]
  },
  {
   "cell_type": "code",
   "execution_count": 9,
   "id": "c2330ce9",
   "metadata": {},
   "outputs": [
    {
     "data": {
      "text/plain": [
       "array(['Thousand'], dtype=object)"
      ]
     },
     "execution_count": 9,
     "metadata": {},
     "output_type": "execute_result"
    }
   ],
   "source": [
    "dfMigration.UNIT.unique() #Checking that the value dor UNIT and STATISTIC value are the same for all to delete these features"
   ]
  },
  {
   "cell_type": "code",
   "execution_count": 10,
   "id": "525656ec",
   "metadata": {},
   "outputs": [],
   "source": [
    "dfMigration = dfMigration.drop(['UNIT','STATISTIC Label'],axis=1)"
   ]
  },
  {
   "cell_type": "code",
   "execution_count": 11,
   "id": "28da869a",
   "metadata": {},
   "outputs": [
    {
     "data": {
      "text/html": [
       "<div>\n",
       "<style scoped>\n",
       "    .dataframe tbody tr th:only-of-type {\n",
       "        vertical-align: middle;\n",
       "    }\n",
       "\n",
       "    .dataframe tbody tr th {\n",
       "        vertical-align: top;\n",
       "    }\n",
       "\n",
       "    .dataframe thead th {\n",
       "        text-align: right;\n",
       "    }\n",
       "</style>\n",
       "<table border=\"1\" class=\"dataframe\">\n",
       "  <thead>\n",
       "    <tr style=\"text-align: right;\">\n",
       "      <th></th>\n",
       "      <th>Year</th>\n",
       "      <th>Age Group</th>\n",
       "      <th>Sex</th>\n",
       "      <th>Inward or Outward Flow</th>\n",
       "      <th>VALUE</th>\n",
       "    </tr>\n",
       "  </thead>\n",
       "  <tbody>\n",
       "    <tr>\n",
       "      <th>0</th>\n",
       "      <td>1987</td>\n",
       "      <td>All ages</td>\n",
       "      <td>Both sexes</td>\n",
       "      <td>Net migration</td>\n",
       "      <td>-23.0</td>\n",
       "    </tr>\n",
       "    <tr>\n",
       "      <th>1</th>\n",
       "      <td>1987</td>\n",
       "      <td>All ages</td>\n",
       "      <td>Both sexes</td>\n",
       "      <td>Emigrants: All destinations</td>\n",
       "      <td>40.2</td>\n",
       "    </tr>\n",
       "    <tr>\n",
       "      <th>2</th>\n",
       "      <td>1987</td>\n",
       "      <td>All ages</td>\n",
       "      <td>Both sexes</td>\n",
       "      <td>Immigrants: All origins</td>\n",
       "      <td>17.2</td>\n",
       "    </tr>\n",
       "    <tr>\n",
       "      <th>3</th>\n",
       "      <td>1987</td>\n",
       "      <td>All ages</td>\n",
       "      <td>Male</td>\n",
       "      <td>Net migration</td>\n",
       "      <td>NaN</td>\n",
       "    </tr>\n",
       "    <tr>\n",
       "      <th>4</th>\n",
       "      <td>1987</td>\n",
       "      <td>All ages</td>\n",
       "      <td>Male</td>\n",
       "      <td>Emigrants: All destinations</td>\n",
       "      <td>NaN</td>\n",
       "    </tr>\n",
       "  </tbody>\n",
       "</table>\n",
       "</div>"
      ],
      "text/plain": [
       "   Year Age Group         Sex       Inward or Outward Flow  VALUE\n",
       "0  1987  All ages  Both sexes                Net migration  -23.0\n",
       "1  1987  All ages  Both sexes  Emigrants: All destinations   40.2\n",
       "2  1987  All ages  Both sexes      Immigrants: All origins   17.2\n",
       "3  1987  All ages        Male                Net migration    NaN\n",
       "4  1987  All ages        Male  Emigrants: All destinations    NaN"
      ]
     },
     "execution_count": 11,
     "metadata": {},
     "output_type": "execute_result"
    }
   ],
   "source": [
    "dfMigration.head()"
   ]
  },
  {
   "cell_type": "code",
   "execution_count": 12,
   "id": "bc4986c1",
   "metadata": {},
   "outputs": [
    {
     "data": {
      "text/plain": [
       "315"
      ]
     },
     "execution_count": 12,
     "metadata": {},
     "output_type": "execute_result"
    }
   ],
   "source": [
    "dfMigration['VALUE'].isna().sum()"
   ]
  },
  {
   "cell_type": "code",
   "execution_count": 13,
   "id": "84588c8e",
   "metadata": {},
   "outputs": [],
   "source": [
    "#dfMigration.loc[dfMigration['Sex']=='Both sexes']"
   ]
  },
  {
   "cell_type": "code",
   "execution_count": 14,
   "id": "39b13091",
   "metadata": {},
   "outputs": [
    {
     "data": {
      "text/plain": [
       "Year                       0\n",
       "Age Group                  0\n",
       "Sex                        0\n",
       "Inward or Outward Flow     0\n",
       "VALUE                     75\n",
       "dtype: int64"
      ]
     },
     "execution_count": 14,
     "metadata": {},
     "output_type": "execute_result"
    }
   ],
   "source": [
    "dfMigration.loc[dfMigration['Sex']=='Both sexes'].isna().sum()"
   ]
  },
  {
   "cell_type": "code",
   "execution_count": 15,
   "id": "02f4dc68",
   "metadata": {},
   "outputs": [
    {
     "data": {
      "text/plain": [
       "Year                        0\n",
       "Age Group                   0\n",
       "Sex                         0\n",
       "Inward or Outward Flow      0\n",
       "VALUE                     315\n",
       "dtype: int64"
      ]
     },
     "execution_count": 15,
     "metadata": {},
     "output_type": "execute_result"
    }
   ],
   "source": [
    "dfMigration.isna().sum()"
   ]
  },
  {
   "cell_type": "code",
   "execution_count": 16,
   "id": "ec2baac7",
   "metadata": {},
   "outputs": [
    {
     "data": {
      "text/plain": [
       "Year                        0\n",
       "Age Group                   0\n",
       "Sex                         0\n",
       "Inward or Outward Flow      0\n",
       "VALUE                     120\n",
       "dtype: int64"
      ]
     },
     "execution_count": 16,
     "metadata": {},
     "output_type": "execute_result"
    }
   ],
   "source": [
    "dfMigration.loc[dfMigration['Sex']=='Female'].isna().sum()"
   ]
  },
  {
   "cell_type": "code",
   "execution_count": 17,
   "id": "41b19bc7",
   "metadata": {},
   "outputs": [
    {
     "data": {
      "text/plain": [
       "Year                       0\n",
       "Age Group                  0\n",
       "Sex                        0\n",
       "Inward or Outward Flow     0\n",
       "VALUE                     90\n",
       "dtype: int64"
      ]
     },
     "execution_count": 17,
     "metadata": {},
     "output_type": "execute_result"
    }
   ],
   "source": [
    "dfMigration.loc[dfMigration['Age Group']=='All ages'].isna().sum()"
   ]
  },
  {
   "cell_type": "code",
   "execution_count": 18,
   "id": "fd197a19",
   "metadata": {},
   "outputs": [
    {
     "data": {
      "text/plain": [
       "Year                        0\n",
       "Age Group                   0\n",
       "Sex                         0\n",
       "Inward or Outward Flow      0\n",
       "VALUE                     255\n",
       "dtype: int64"
      ]
     },
     "execution_count": 18,
     "metadata": {},
     "output_type": "execute_result"
    }
   ],
   "source": [
    "dfMigration.loc[dfMigration['Inward or Outward Flow']=='Net migration'].isna().sum()"
   ]
  },
  {
   "cell_type": "code",
   "execution_count": 19,
   "id": "df64c037",
   "metadata": {},
   "outputs": [],
   "source": [
    "#Most na values are from Net Migration, which value seems to come from Emigrants minus Immigrants, which we can validate"
   ]
  },
  {
   "cell_type": "code",
   "execution_count": 20,
   "id": "881c92ad",
   "metadata": {},
   "outputs": [
    {
     "data": {
      "text/html": [
       "<div>\n",
       "<style scoped>\n",
       "    .dataframe tbody tr th:only-of-type {\n",
       "        vertical-align: middle;\n",
       "    }\n",
       "\n",
       "    .dataframe tbody tr th {\n",
       "        vertical-align: top;\n",
       "    }\n",
       "\n",
       "    .dataframe thead th {\n",
       "        text-align: right;\n",
       "    }\n",
       "</style>\n",
       "<table border=\"1\" class=\"dataframe\">\n",
       "  <thead>\n",
       "    <tr style=\"text-align: right;\">\n",
       "      <th></th>\n",
       "      <th>Year</th>\n",
       "      <th>Age Group</th>\n",
       "      <th>Sex</th>\n",
       "      <th>Inward or Outward Flow</th>\n",
       "      <th>VALUE</th>\n",
       "    </tr>\n",
       "  </thead>\n",
       "  <tbody>\n",
       "    <tr>\n",
       "      <th>0</th>\n",
       "      <td>1987</td>\n",
       "      <td>All ages</td>\n",
       "      <td>Both sexes</td>\n",
       "      <td>Net migration</td>\n",
       "      <td>-23.0</td>\n",
       "    </tr>\n",
       "    <tr>\n",
       "      <th>1</th>\n",
       "      <td>1987</td>\n",
       "      <td>All ages</td>\n",
       "      <td>Both sexes</td>\n",
       "      <td>Emigrants: All destinations</td>\n",
       "      <td>40.2</td>\n",
       "    </tr>\n",
       "    <tr>\n",
       "      <th>2</th>\n",
       "      <td>1987</td>\n",
       "      <td>All ages</td>\n",
       "      <td>Both sexes</td>\n",
       "      <td>Immigrants: All origins</td>\n",
       "      <td>17.2</td>\n",
       "    </tr>\n",
       "    <tr>\n",
       "      <th>3</th>\n",
       "      <td>1987</td>\n",
       "      <td>All ages</td>\n",
       "      <td>Male</td>\n",
       "      <td>Net migration</td>\n",
       "      <td>NaN</td>\n",
       "    </tr>\n",
       "    <tr>\n",
       "      <th>4</th>\n",
       "      <td>1987</td>\n",
       "      <td>All ages</td>\n",
       "      <td>Male</td>\n",
       "      <td>Emigrants: All destinations</td>\n",
       "      <td>NaN</td>\n",
       "    </tr>\n",
       "    <tr>\n",
       "      <th>5</th>\n",
       "      <td>1987</td>\n",
       "      <td>All ages</td>\n",
       "      <td>Male</td>\n",
       "      <td>Immigrants: All origins</td>\n",
       "      <td>NaN</td>\n",
       "    </tr>\n",
       "    <tr>\n",
       "      <th>6</th>\n",
       "      <td>1987</td>\n",
       "      <td>All ages</td>\n",
       "      <td>Female</td>\n",
       "      <td>Net migration</td>\n",
       "      <td>NaN</td>\n",
       "    </tr>\n",
       "    <tr>\n",
       "      <th>7</th>\n",
       "      <td>1987</td>\n",
       "      <td>All ages</td>\n",
       "      <td>Female</td>\n",
       "      <td>Emigrants: All destinations</td>\n",
       "      <td>NaN</td>\n",
       "    </tr>\n",
       "    <tr>\n",
       "      <th>8</th>\n",
       "      <td>1987</td>\n",
       "      <td>All ages</td>\n",
       "      <td>Female</td>\n",
       "      <td>Immigrants: All origins</td>\n",
       "      <td>NaN</td>\n",
       "    </tr>\n",
       "    <tr>\n",
       "      <th>9</th>\n",
       "      <td>1987</td>\n",
       "      <td>0 - 14 years</td>\n",
       "      <td>Both sexes</td>\n",
       "      <td>Net migration</td>\n",
       "      <td>NaN</td>\n",
       "    </tr>\n",
       "    <tr>\n",
       "      <th>10</th>\n",
       "      <td>1987</td>\n",
       "      <td>0 - 14 years</td>\n",
       "      <td>Both sexes</td>\n",
       "      <td>Emigrants: All destinations</td>\n",
       "      <td>2.8</td>\n",
       "    </tr>\n",
       "    <tr>\n",
       "      <th>11</th>\n",
       "      <td>1987</td>\n",
       "      <td>0 - 14 years</td>\n",
       "      <td>Both sexes</td>\n",
       "      <td>Immigrants: All origins</td>\n",
       "      <td>3.1</td>\n",
       "    </tr>\n",
       "    <tr>\n",
       "      <th>12</th>\n",
       "      <td>1987</td>\n",
       "      <td>0 - 14 years</td>\n",
       "      <td>Male</td>\n",
       "      <td>Net migration</td>\n",
       "      <td>NaN</td>\n",
       "    </tr>\n",
       "    <tr>\n",
       "      <th>13</th>\n",
       "      <td>1987</td>\n",
       "      <td>0 - 14 years</td>\n",
       "      <td>Male</td>\n",
       "      <td>Emigrants: All destinations</td>\n",
       "      <td>1.4</td>\n",
       "    </tr>\n",
       "    <tr>\n",
       "      <th>14</th>\n",
       "      <td>1987</td>\n",
       "      <td>0 - 14 years</td>\n",
       "      <td>Male</td>\n",
       "      <td>Immigrants: All origins</td>\n",
       "      <td>1.3</td>\n",
       "    </tr>\n",
       "  </tbody>\n",
       "</table>\n",
       "</div>"
      ],
      "text/plain": [
       "    Year     Age Group         Sex       Inward or Outward Flow  VALUE\n",
       "0   1987      All ages  Both sexes                Net migration  -23.0\n",
       "1   1987      All ages  Both sexes  Emigrants: All destinations   40.2\n",
       "2   1987      All ages  Both sexes      Immigrants: All origins   17.2\n",
       "3   1987      All ages        Male                Net migration    NaN\n",
       "4   1987      All ages        Male  Emigrants: All destinations    NaN\n",
       "5   1987      All ages        Male      Immigrants: All origins    NaN\n",
       "6   1987      All ages      Female                Net migration    NaN\n",
       "7   1987      All ages      Female  Emigrants: All destinations    NaN\n",
       "8   1987      All ages      Female      Immigrants: All origins    NaN\n",
       "9   1987  0 - 14 years  Both sexes                Net migration    NaN\n",
       "10  1987  0 - 14 years  Both sexes  Emigrants: All destinations    2.8\n",
       "11  1987  0 - 14 years  Both sexes      Immigrants: All origins    3.1\n",
       "12  1987  0 - 14 years        Male                Net migration    NaN\n",
       "13  1987  0 - 14 years        Male  Emigrants: All destinations    1.4\n",
       "14  1987  0 - 14 years        Male      Immigrants: All origins    1.3"
      ]
     },
     "execution_count": 20,
     "metadata": {},
     "output_type": "execute_result"
    }
   ],
   "source": [
    "dfMigration.head(15)"
   ]
  },
  {
   "cell_type": "code",
   "execution_count": 21,
   "id": "dd416ff7",
   "metadata": {},
   "outputs": [],
   "source": [
    "dfNoNetMigration = dfMigration.drop(dfMigration[dfMigration['Inward or Outward Flow']=='Net migration'].index) #taking the Net Migration so we can create it later"
   ]
  },
  {
   "cell_type": "code",
   "execution_count": 22,
   "id": "debc8be4",
   "metadata": {},
   "outputs": [
    {
     "name": "stdout",
     "output_type": "stream",
     "text": [
      "<class 'pandas.core.frame.DataFrame'>\n",
      "Int64Index: 1332 entries, 1 to 1997\n",
      "Data columns (total 5 columns):\n",
      " #   Column                  Non-Null Count  Dtype  \n",
      "---  ------                  --------------  -----  \n",
      " 0   Year                    1332 non-null   int64  \n",
      " 1   Age Group               1332 non-null   object \n",
      " 2   Sex                     1332 non-null   object \n",
      " 3   Inward or Outward Flow  1332 non-null   object \n",
      " 4   VALUE                   1272 non-null   float64\n",
      "dtypes: float64(1), int64(1), object(3)\n",
      "memory usage: 62.4+ KB\n"
     ]
    }
   ],
   "source": [
    "dfNoNetMigration.info()"
   ]
  },
  {
   "cell_type": "code",
   "execution_count": 23,
   "id": "97b25008",
   "metadata": {},
   "outputs": [
    {
     "data": {
      "text/html": [
       "<div>\n",
       "<style scoped>\n",
       "    .dataframe tbody tr th:only-of-type {\n",
       "        vertical-align: middle;\n",
       "    }\n",
       "\n",
       "    .dataframe tbody tr th {\n",
       "        vertical-align: top;\n",
       "    }\n",
       "\n",
       "    .dataframe thead th {\n",
       "        text-align: right;\n",
       "    }\n",
       "</style>\n",
       "<table border=\"1\" class=\"dataframe\">\n",
       "  <thead>\n",
       "    <tr style=\"text-align: right;\">\n",
       "      <th></th>\n",
       "      <th>Year</th>\n",
       "      <th>Age Group</th>\n",
       "      <th>Sex</th>\n",
       "      <th>Inward or Outward Flow</th>\n",
       "      <th>VALUE</th>\n",
       "    </tr>\n",
       "  </thead>\n",
       "  <tbody>\n",
       "    <tr>\n",
       "      <th>1</th>\n",
       "      <td>1987</td>\n",
       "      <td>All ages</td>\n",
       "      <td>Both sexes</td>\n",
       "      <td>Emigrants: All destinations</td>\n",
       "      <td>40.2</td>\n",
       "    </tr>\n",
       "    <tr>\n",
       "      <th>2</th>\n",
       "      <td>1987</td>\n",
       "      <td>All ages</td>\n",
       "      <td>Both sexes</td>\n",
       "      <td>Immigrants: All origins</td>\n",
       "      <td>17.2</td>\n",
       "    </tr>\n",
       "    <tr>\n",
       "      <th>4</th>\n",
       "      <td>1987</td>\n",
       "      <td>All ages</td>\n",
       "      <td>Male</td>\n",
       "      <td>Emigrants: All destinations</td>\n",
       "      <td>NaN</td>\n",
       "    </tr>\n",
       "    <tr>\n",
       "      <th>5</th>\n",
       "      <td>1987</td>\n",
       "      <td>All ages</td>\n",
       "      <td>Male</td>\n",
       "      <td>Immigrants: All origins</td>\n",
       "      <td>NaN</td>\n",
       "    </tr>\n",
       "    <tr>\n",
       "      <th>7</th>\n",
       "      <td>1987</td>\n",
       "      <td>All ages</td>\n",
       "      <td>Female</td>\n",
       "      <td>Emigrants: All destinations</td>\n",
       "      <td>NaN</td>\n",
       "    </tr>\n",
       "  </tbody>\n",
       "</table>\n",
       "</div>"
      ],
      "text/plain": [
       "   Year Age Group         Sex       Inward or Outward Flow  VALUE\n",
       "1  1987  All ages  Both sexes  Emigrants: All destinations   40.2\n",
       "2  1987  All ages  Both sexes      Immigrants: All origins   17.2\n",
       "4  1987  All ages        Male  Emigrants: All destinations    NaN\n",
       "5  1987  All ages        Male      Immigrants: All origins    NaN\n",
       "7  1987  All ages      Female  Emigrants: All destinations    NaN"
      ]
     },
     "execution_count": 23,
     "metadata": {},
     "output_type": "execute_result"
    }
   ],
   "source": [
    "dfNoNetMigration.head()"
   ]
  },
  {
   "cell_type": "code",
   "execution_count": 24,
   "id": "a629f894",
   "metadata": {},
   "outputs": [],
   "source": [
    "#dfSum = dfNoNetMigration.groupby(['Year','Age Group','Inward or Outward Flow','Sex']).VALUE.sum().reset_index()"
   ]
  },
  {
   "cell_type": "code",
   "execution_count": 25,
   "id": "3ffbff57",
   "metadata": {},
   "outputs": [
    {
     "data": {
      "text/html": [
       "<div>\n",
       "<style scoped>\n",
       "    .dataframe tbody tr th:only-of-type {\n",
       "        vertical-align: middle;\n",
       "    }\n",
       "\n",
       "    .dataframe tbody tr th {\n",
       "        vertical-align: top;\n",
       "    }\n",
       "\n",
       "    .dataframe thead th {\n",
       "        text-align: right;\n",
       "    }\n",
       "</style>\n",
       "<table border=\"1\" class=\"dataframe\">\n",
       "  <thead>\n",
       "    <tr style=\"text-align: right;\">\n",
       "      <th></th>\n",
       "      <th>Year</th>\n",
       "      <th>Age Group</th>\n",
       "      <th>Sex</th>\n",
       "      <th>Inward or Outward Flow</th>\n",
       "      <th>VALUE</th>\n",
       "    </tr>\n",
       "  </thead>\n",
       "  <tbody>\n",
       "    <tr>\n",
       "      <th>4</th>\n",
       "      <td>1987</td>\n",
       "      <td>All ages</td>\n",
       "      <td>Male</td>\n",
       "      <td>Emigrants: All destinations</td>\n",
       "      <td>NaN</td>\n",
       "    </tr>\n",
       "    <tr>\n",
       "      <th>5</th>\n",
       "      <td>1987</td>\n",
       "      <td>All ages</td>\n",
       "      <td>Male</td>\n",
       "      <td>Immigrants: All origins</td>\n",
       "      <td>NaN</td>\n",
       "    </tr>\n",
       "    <tr>\n",
       "      <th>7</th>\n",
       "      <td>1987</td>\n",
       "      <td>All ages</td>\n",
       "      <td>Female</td>\n",
       "      <td>Emigrants: All destinations</td>\n",
       "      <td>NaN</td>\n",
       "    </tr>\n",
       "    <tr>\n",
       "      <th>8</th>\n",
       "      <td>1987</td>\n",
       "      <td>All ages</td>\n",
       "      <td>Female</td>\n",
       "      <td>Immigrants: All origins</td>\n",
       "      <td>NaN</td>\n",
       "    </tr>\n",
       "    <tr>\n",
       "      <th>58</th>\n",
       "      <td>1988</td>\n",
       "      <td>All ages</td>\n",
       "      <td>Male</td>\n",
       "      <td>Emigrants: All destinations</td>\n",
       "      <td>NaN</td>\n",
       "    </tr>\n",
       "    <tr>\n",
       "      <th>59</th>\n",
       "      <td>1988</td>\n",
       "      <td>All ages</td>\n",
       "      <td>Male</td>\n",
       "      <td>Immigrants: All origins</td>\n",
       "      <td>NaN</td>\n",
       "    </tr>\n",
       "    <tr>\n",
       "      <th>61</th>\n",
       "      <td>1988</td>\n",
       "      <td>All ages</td>\n",
       "      <td>Female</td>\n",
       "      <td>Emigrants: All destinations</td>\n",
       "      <td>NaN</td>\n",
       "    </tr>\n",
       "    <tr>\n",
       "      <th>62</th>\n",
       "      <td>1988</td>\n",
       "      <td>All ages</td>\n",
       "      <td>Female</td>\n",
       "      <td>Immigrants: All origins</td>\n",
       "      <td>NaN</td>\n",
       "    </tr>\n",
       "    <tr>\n",
       "      <th>112</th>\n",
       "      <td>1989</td>\n",
       "      <td>All ages</td>\n",
       "      <td>Male</td>\n",
       "      <td>Emigrants: All destinations</td>\n",
       "      <td>NaN</td>\n",
       "    </tr>\n",
       "    <tr>\n",
       "      <th>113</th>\n",
       "      <td>1989</td>\n",
       "      <td>All ages</td>\n",
       "      <td>Male</td>\n",
       "      <td>Immigrants: All origins</td>\n",
       "      <td>NaN</td>\n",
       "    </tr>\n",
       "    <tr>\n",
       "      <th>115</th>\n",
       "      <td>1989</td>\n",
       "      <td>All ages</td>\n",
       "      <td>Female</td>\n",
       "      <td>Emigrants: All destinations</td>\n",
       "      <td>NaN</td>\n",
       "    </tr>\n",
       "    <tr>\n",
       "      <th>116</th>\n",
       "      <td>1989</td>\n",
       "      <td>All ages</td>\n",
       "      <td>Female</td>\n",
       "      <td>Immigrants: All origins</td>\n",
       "      <td>NaN</td>\n",
       "    </tr>\n",
       "    <tr>\n",
       "      <th>166</th>\n",
       "      <td>1990</td>\n",
       "      <td>All ages</td>\n",
       "      <td>Male</td>\n",
       "      <td>Emigrants: All destinations</td>\n",
       "      <td>NaN</td>\n",
       "    </tr>\n",
       "    <tr>\n",
       "      <th>167</th>\n",
       "      <td>1990</td>\n",
       "      <td>All ages</td>\n",
       "      <td>Male</td>\n",
       "      <td>Immigrants: All origins</td>\n",
       "      <td>NaN</td>\n",
       "    </tr>\n",
       "    <tr>\n",
       "      <th>169</th>\n",
       "      <td>1990</td>\n",
       "      <td>All ages</td>\n",
       "      <td>Female</td>\n",
       "      <td>Emigrants: All destinations</td>\n",
       "      <td>NaN</td>\n",
       "    </tr>\n",
       "  </tbody>\n",
       "</table>\n",
       "</div>"
      ],
      "text/plain": [
       "     Year Age Group     Sex       Inward or Outward Flow  VALUE\n",
       "4    1987  All ages    Male  Emigrants: All destinations    NaN\n",
       "5    1987  All ages    Male      Immigrants: All origins    NaN\n",
       "7    1987  All ages  Female  Emigrants: All destinations    NaN\n",
       "8    1987  All ages  Female      Immigrants: All origins    NaN\n",
       "58   1988  All ages    Male  Emigrants: All destinations    NaN\n",
       "59   1988  All ages    Male      Immigrants: All origins    NaN\n",
       "61   1988  All ages  Female  Emigrants: All destinations    NaN\n",
       "62   1988  All ages  Female      Immigrants: All origins    NaN\n",
       "112  1989  All ages    Male  Emigrants: All destinations    NaN\n",
       "113  1989  All ages    Male      Immigrants: All origins    NaN\n",
       "115  1989  All ages  Female  Emigrants: All destinations    NaN\n",
       "116  1989  All ages  Female      Immigrants: All origins    NaN\n",
       "166  1990  All ages    Male  Emigrants: All destinations    NaN\n",
       "167  1990  All ages    Male      Immigrants: All origins    NaN\n",
       "169  1990  All ages  Female  Emigrants: All destinations    NaN"
      ]
     },
     "execution_count": 25,
     "metadata": {},
     "output_type": "execute_result"
    }
   ],
   "source": [
    "dfNoNetMigration.loc[dfNoNetMigration['VALUE'].isnull()].head(15)"
   ]
  },
  {
   "cell_type": "code",
   "execution_count": 26,
   "id": "326360bd",
   "metadata": {},
   "outputs": [
    {
     "data": {
      "text/plain": [
       "array(['All ages'], dtype=object)"
      ]
     },
     "execution_count": 26,
     "metadata": {},
     "output_type": "execute_result"
    }
   ],
   "source": [
    "dfNoNetMigration.loc[dfNoNetMigration['VALUE'].isnull()]['Age Group'].unique() #NaN values are located in \"All ages\", which comes from the addition of other rows, so we can prescind of them\n"
   ]
  },
  {
   "cell_type": "code",
   "execution_count": 27,
   "id": "f644f138",
   "metadata": {},
   "outputs": [],
   "source": [
    "dfNoNetMigration.drop(dfNoNetMigration[(dfNoNetMigration['Age Group'] == 'All ages')].index, inplace=True)"
   ]
  },
  {
   "cell_type": "code",
   "execution_count": 28,
   "id": "403c54e8",
   "metadata": {},
   "outputs": [
    {
     "data": {
      "text/html": [
       "<div>\n",
       "<style scoped>\n",
       "    .dataframe tbody tr th:only-of-type {\n",
       "        vertical-align: middle;\n",
       "    }\n",
       "\n",
       "    .dataframe tbody tr th {\n",
       "        vertical-align: top;\n",
       "    }\n",
       "\n",
       "    .dataframe thead th {\n",
       "        text-align: right;\n",
       "    }\n",
       "</style>\n",
       "<table border=\"1\" class=\"dataframe\">\n",
       "  <thead>\n",
       "    <tr style=\"text-align: right;\">\n",
       "      <th></th>\n",
       "      <th>Year</th>\n",
       "      <th>Age Group</th>\n",
       "      <th>Sex</th>\n",
       "      <th>Inward or Outward Flow</th>\n",
       "      <th>VALUE</th>\n",
       "    </tr>\n",
       "  </thead>\n",
       "  <tbody>\n",
       "    <tr>\n",
       "      <th>10</th>\n",
       "      <td>1987</td>\n",
       "      <td>0 - 14 years</td>\n",
       "      <td>Both sexes</td>\n",
       "      <td>Emigrants: All destinations</td>\n",
       "      <td>2.8</td>\n",
       "    </tr>\n",
       "    <tr>\n",
       "      <th>11</th>\n",
       "      <td>1987</td>\n",
       "      <td>0 - 14 years</td>\n",
       "      <td>Both sexes</td>\n",
       "      <td>Immigrants: All origins</td>\n",
       "      <td>3.1</td>\n",
       "    </tr>\n",
       "    <tr>\n",
       "      <th>13</th>\n",
       "      <td>1987</td>\n",
       "      <td>0 - 14 years</td>\n",
       "      <td>Male</td>\n",
       "      <td>Emigrants: All destinations</td>\n",
       "      <td>1.4</td>\n",
       "    </tr>\n",
       "    <tr>\n",
       "      <th>14</th>\n",
       "      <td>1987</td>\n",
       "      <td>0 - 14 years</td>\n",
       "      <td>Male</td>\n",
       "      <td>Immigrants: All origins</td>\n",
       "      <td>1.3</td>\n",
       "    </tr>\n",
       "    <tr>\n",
       "      <th>16</th>\n",
       "      <td>1987</td>\n",
       "      <td>0 - 14 years</td>\n",
       "      <td>Female</td>\n",
       "      <td>Emigrants: All destinations</td>\n",
       "      <td>1.3</td>\n",
       "    </tr>\n",
       "    <tr>\n",
       "      <th>17</th>\n",
       "      <td>1987</td>\n",
       "      <td>0 - 14 years</td>\n",
       "      <td>Female</td>\n",
       "      <td>Immigrants: All origins</td>\n",
       "      <td>1.8</td>\n",
       "    </tr>\n",
       "    <tr>\n",
       "      <th>19</th>\n",
       "      <td>1987</td>\n",
       "      <td>15 - 24 years</td>\n",
       "      <td>Both sexes</td>\n",
       "      <td>Emigrants: All destinations</td>\n",
       "      <td>24.0</td>\n",
       "    </tr>\n",
       "    <tr>\n",
       "      <th>20</th>\n",
       "      <td>1987</td>\n",
       "      <td>15 - 24 years</td>\n",
       "      <td>Both sexes</td>\n",
       "      <td>Immigrants: All origins</td>\n",
       "      <td>5.1</td>\n",
       "    </tr>\n",
       "    <tr>\n",
       "      <th>22</th>\n",
       "      <td>1987</td>\n",
       "      <td>15 - 24 years</td>\n",
       "      <td>Male</td>\n",
       "      <td>Emigrants: All destinations</td>\n",
       "      <td>12.3</td>\n",
       "    </tr>\n",
       "    <tr>\n",
       "      <th>23</th>\n",
       "      <td>1987</td>\n",
       "      <td>15 - 24 years</td>\n",
       "      <td>Male</td>\n",
       "      <td>Immigrants: All origins</td>\n",
       "      <td>1.9</td>\n",
       "    </tr>\n",
       "    <tr>\n",
       "      <th>25</th>\n",
       "      <td>1987</td>\n",
       "      <td>15 - 24 years</td>\n",
       "      <td>Female</td>\n",
       "      <td>Emigrants: All destinations</td>\n",
       "      <td>11.7</td>\n",
       "    </tr>\n",
       "    <tr>\n",
       "      <th>26</th>\n",
       "      <td>1987</td>\n",
       "      <td>15 - 24 years</td>\n",
       "      <td>Female</td>\n",
       "      <td>Immigrants: All origins</td>\n",
       "      <td>3.2</td>\n",
       "    </tr>\n",
       "    <tr>\n",
       "      <th>28</th>\n",
       "      <td>1987</td>\n",
       "      <td>25 - 44 years</td>\n",
       "      <td>Both sexes</td>\n",
       "      <td>Emigrants: All destinations</td>\n",
       "      <td>11.8</td>\n",
       "    </tr>\n",
       "    <tr>\n",
       "      <th>29</th>\n",
       "      <td>1987</td>\n",
       "      <td>25 - 44 years</td>\n",
       "      <td>Both sexes</td>\n",
       "      <td>Immigrants: All origins</td>\n",
       "      <td>6.1</td>\n",
       "    </tr>\n",
       "    <tr>\n",
       "      <th>31</th>\n",
       "      <td>1987</td>\n",
       "      <td>25 - 44 years</td>\n",
       "      <td>Male</td>\n",
       "      <td>Emigrants: All destinations</td>\n",
       "      <td>6.9</td>\n",
       "    </tr>\n",
       "    <tr>\n",
       "      <th>32</th>\n",
       "      <td>1987</td>\n",
       "      <td>25 - 44 years</td>\n",
       "      <td>Male</td>\n",
       "      <td>Immigrants: All origins</td>\n",
       "      <td>3.4</td>\n",
       "    </tr>\n",
       "    <tr>\n",
       "      <th>34</th>\n",
       "      <td>1987</td>\n",
       "      <td>25 - 44 years</td>\n",
       "      <td>Female</td>\n",
       "      <td>Emigrants: All destinations</td>\n",
       "      <td>4.9</td>\n",
       "    </tr>\n",
       "    <tr>\n",
       "      <th>35</th>\n",
       "      <td>1987</td>\n",
       "      <td>25 - 44 years</td>\n",
       "      <td>Female</td>\n",
       "      <td>Immigrants: All origins</td>\n",
       "      <td>2.7</td>\n",
       "    </tr>\n",
       "    <tr>\n",
       "      <th>37</th>\n",
       "      <td>1987</td>\n",
       "      <td>45 - 64 years</td>\n",
       "      <td>Both sexes</td>\n",
       "      <td>Emigrants: All destinations</td>\n",
       "      <td>1.7</td>\n",
       "    </tr>\n",
       "    <tr>\n",
       "      <th>38</th>\n",
       "      <td>1987</td>\n",
       "      <td>45 - 64 years</td>\n",
       "      <td>Both sexes</td>\n",
       "      <td>Immigrants: All origins</td>\n",
       "      <td>1.8</td>\n",
       "    </tr>\n",
       "    <tr>\n",
       "      <th>40</th>\n",
       "      <td>1987</td>\n",
       "      <td>45 - 64 years</td>\n",
       "      <td>Male</td>\n",
       "      <td>Emigrants: All destinations</td>\n",
       "      <td>1.0</td>\n",
       "    </tr>\n",
       "    <tr>\n",
       "      <th>41</th>\n",
       "      <td>1987</td>\n",
       "      <td>45 - 64 years</td>\n",
       "      <td>Male</td>\n",
       "      <td>Immigrants: All origins</td>\n",
       "      <td>1.0</td>\n",
       "    </tr>\n",
       "    <tr>\n",
       "      <th>43</th>\n",
       "      <td>1987</td>\n",
       "      <td>45 - 64 years</td>\n",
       "      <td>Female</td>\n",
       "      <td>Emigrants: All destinations</td>\n",
       "      <td>0.7</td>\n",
       "    </tr>\n",
       "    <tr>\n",
       "      <th>44</th>\n",
       "      <td>1987</td>\n",
       "      <td>45 - 64 years</td>\n",
       "      <td>Female</td>\n",
       "      <td>Immigrants: All origins</td>\n",
       "      <td>0.8</td>\n",
       "    </tr>\n",
       "    <tr>\n",
       "      <th>46</th>\n",
       "      <td>1987</td>\n",
       "      <td>65 years and over</td>\n",
       "      <td>Both sexes</td>\n",
       "      <td>Emigrants: All destinations</td>\n",
       "      <td>0.0</td>\n",
       "    </tr>\n",
       "  </tbody>\n",
       "</table>\n",
       "</div>"
      ],
      "text/plain": [
       "    Year          Age Group         Sex       Inward or Outward Flow  VALUE\n",
       "10  1987       0 - 14 years  Both sexes  Emigrants: All destinations    2.8\n",
       "11  1987       0 - 14 years  Both sexes      Immigrants: All origins    3.1\n",
       "13  1987       0 - 14 years        Male  Emigrants: All destinations    1.4\n",
       "14  1987       0 - 14 years        Male      Immigrants: All origins    1.3\n",
       "16  1987       0 - 14 years      Female  Emigrants: All destinations    1.3\n",
       "17  1987       0 - 14 years      Female      Immigrants: All origins    1.8\n",
       "19  1987      15 - 24 years  Both sexes  Emigrants: All destinations   24.0\n",
       "20  1987      15 - 24 years  Both sexes      Immigrants: All origins    5.1\n",
       "22  1987      15 - 24 years        Male  Emigrants: All destinations   12.3\n",
       "23  1987      15 - 24 years        Male      Immigrants: All origins    1.9\n",
       "25  1987      15 - 24 years      Female  Emigrants: All destinations   11.7\n",
       "26  1987      15 - 24 years      Female      Immigrants: All origins    3.2\n",
       "28  1987      25 - 44 years  Both sexes  Emigrants: All destinations   11.8\n",
       "29  1987      25 - 44 years  Both sexes      Immigrants: All origins    6.1\n",
       "31  1987      25 - 44 years        Male  Emigrants: All destinations    6.9\n",
       "32  1987      25 - 44 years        Male      Immigrants: All origins    3.4\n",
       "34  1987      25 - 44 years      Female  Emigrants: All destinations    4.9\n",
       "35  1987      25 - 44 years      Female      Immigrants: All origins    2.7\n",
       "37  1987      45 - 64 years  Both sexes  Emigrants: All destinations    1.7\n",
       "38  1987      45 - 64 years  Both sexes      Immigrants: All origins    1.8\n",
       "40  1987      45 - 64 years        Male  Emigrants: All destinations    1.0\n",
       "41  1987      45 - 64 years        Male      Immigrants: All origins    1.0\n",
       "43  1987      45 - 64 years      Female  Emigrants: All destinations    0.7\n",
       "44  1987      45 - 64 years      Female      Immigrants: All origins    0.8\n",
       "46  1987  65 years and over  Both sexes  Emigrants: All destinations    0.0"
      ]
     },
     "execution_count": 28,
     "metadata": {},
     "output_type": "execute_result"
    }
   ],
   "source": [
    "#dfSum.groupby(['Year'])\n",
    "dfNoNetMigration.head(25)"
   ]
  },
  {
   "cell_type": "code",
   "execution_count": 29,
   "id": "4414b3dd",
   "metadata": {},
   "outputs": [
    {
     "data": {
      "text/plain": [
       "0"
      ]
     },
     "execution_count": 29,
     "metadata": {},
     "output_type": "execute_result"
    }
   ],
   "source": [
    "dfNoNetMigration.VALUE.isnull().sum() #No more null values"
   ]
  },
  {
   "cell_type": "code",
   "execution_count": 30,
   "id": "4dfea741",
   "metadata": {},
   "outputs": [
    {
     "data": {
      "text/plain": [
       "(1110, 5)"
      ]
     },
     "execution_count": 30,
     "metadata": {},
     "output_type": "execute_result"
    }
   ],
   "source": [
    "dfNoNetMigration.shape"
   ]
  },
  {
   "cell_type": "code",
   "execution_count": 31,
   "id": "e49c674b",
   "metadata": {},
   "outputs": [
    {
     "data": {
      "text/plain": [
       "0"
      ]
     },
     "execution_count": 31,
     "metadata": {},
     "output_type": "execute_result"
    }
   ],
   "source": [
    "dfNoNetMigration.duplicated().sum() #No duplicate records"
   ]
  },
  {
   "cell_type": "code",
   "execution_count": 32,
   "id": "66521d75",
   "metadata": {},
   "outputs": [
    {
     "data": {
      "text/plain": [
       "Year                      1110\n",
       "Age Group                 1110\n",
       "Sex                       1110\n",
       "Inward or Outward Flow    1110\n",
       "VALUE                     1110\n",
       "dtype: int64"
      ]
     },
     "execution_count": 32,
     "metadata": {},
     "output_type": "execute_result"
    }
   ],
   "source": [
    "dfNoNetMigration.count()"
   ]
  },
  {
   "cell_type": "code",
   "execution_count": 33,
   "id": "f65c91f0",
   "metadata": {},
   "outputs": [],
   "source": [
    "df=dfNoNetMigration #For easiness"
   ]
  },
  {
   "cell_type": "code",
   "execution_count": 34,
   "id": "3d127194",
   "metadata": {},
   "outputs": [],
   "source": [
    "df=df.rename(columns={\"Inward or Outward Flow\": \"In or Out\"})\n"
   ]
  },
  {
   "cell_type": "code",
   "execution_count": 35,
   "id": "6cee3b47",
   "metadata": {},
   "outputs": [],
   "source": [
    "df[\"In or Out\"] = df[\"In or Out\"].astype(\"category\")"
   ]
  },
  {
   "cell_type": "code",
   "execution_count": 36,
   "id": "f04fc887",
   "metadata": {},
   "outputs": [],
   "source": [
    "df['In or Out'] = df['In or Out'].cat.rename_categories({\"Immigrants: All origins\":\"Im\",\"Emigrants: All destinations\":\"Em\"})\n"
   ]
  },
  {
   "cell_type": "code",
   "execution_count": 37,
   "id": "ec614abb",
   "metadata": {},
   "outputs": [
    {
     "data": {
      "text/html": [
       "<div>\n",
       "<style scoped>\n",
       "    .dataframe tbody tr th:only-of-type {\n",
       "        vertical-align: middle;\n",
       "    }\n",
       "\n",
       "    .dataframe tbody tr th {\n",
       "        vertical-align: top;\n",
       "    }\n",
       "\n",
       "    .dataframe thead th {\n",
       "        text-align: right;\n",
       "    }\n",
       "</style>\n",
       "<table border=\"1\" class=\"dataframe\">\n",
       "  <thead>\n",
       "    <tr style=\"text-align: right;\">\n",
       "      <th></th>\n",
       "      <th>Year</th>\n",
       "      <th>Age Group</th>\n",
       "      <th>Sex</th>\n",
       "      <th>In or Out</th>\n",
       "      <th>VALUE</th>\n",
       "    </tr>\n",
       "  </thead>\n",
       "  <tbody>\n",
       "    <tr>\n",
       "      <th>10</th>\n",
       "      <td>1987</td>\n",
       "      <td>0 - 14 years</td>\n",
       "      <td>Both sexes</td>\n",
       "      <td>Em</td>\n",
       "      <td>2.8</td>\n",
       "    </tr>\n",
       "    <tr>\n",
       "      <th>11</th>\n",
       "      <td>1987</td>\n",
       "      <td>0 - 14 years</td>\n",
       "      <td>Both sexes</td>\n",
       "      <td>Im</td>\n",
       "      <td>3.1</td>\n",
       "    </tr>\n",
       "    <tr>\n",
       "      <th>13</th>\n",
       "      <td>1987</td>\n",
       "      <td>0 - 14 years</td>\n",
       "      <td>Male</td>\n",
       "      <td>Em</td>\n",
       "      <td>1.4</td>\n",
       "    </tr>\n",
       "    <tr>\n",
       "      <th>14</th>\n",
       "      <td>1987</td>\n",
       "      <td>0 - 14 years</td>\n",
       "      <td>Male</td>\n",
       "      <td>Im</td>\n",
       "      <td>1.3</td>\n",
       "    </tr>\n",
       "    <tr>\n",
       "      <th>16</th>\n",
       "      <td>1987</td>\n",
       "      <td>0 - 14 years</td>\n",
       "      <td>Female</td>\n",
       "      <td>Em</td>\n",
       "      <td>1.3</td>\n",
       "    </tr>\n",
       "  </tbody>\n",
       "</table>\n",
       "</div>"
      ],
      "text/plain": [
       "    Year     Age Group         Sex In or Out  VALUE\n",
       "10  1987  0 - 14 years  Both sexes        Em    2.8\n",
       "11  1987  0 - 14 years  Both sexes        Im    3.1\n",
       "13  1987  0 - 14 years        Male        Em    1.4\n",
       "14  1987  0 - 14 years        Male        Im    1.3\n",
       "16  1987  0 - 14 years      Female        Em    1.3"
      ]
     },
     "execution_count": 37,
     "metadata": {},
     "output_type": "execute_result"
    }
   ],
   "source": [
    "df.head()"
   ]
  },
  {
   "cell_type": "code",
   "execution_count": null,
   "id": "a0ff2b85",
   "metadata": {},
   "outputs": [],
   "source": []
  },
  {
   "cell_type": "code",
   "execution_count": null,
   "id": "0dd20ab6",
   "metadata": {},
   "outputs": [],
   "source": []
  },
  {
   "cell_type": "code",
   "execution_count": null,
   "id": "dbebd137",
   "metadata": {},
   "outputs": [],
   "source": []
  },
  {
   "cell_type": "code",
   "execution_count": null,
   "id": "b00c3025",
   "metadata": {},
   "outputs": [],
   "source": []
  },
  {
   "cell_type": "code",
   "execution_count": null,
   "id": "ee3f68a9",
   "metadata": {},
   "outputs": [],
   "source": []
  },
  {
   "cell_type": "code",
   "execution_count": null,
   "id": "d3a862a2",
   "metadata": {},
   "outputs": [],
   "source": []
  },
  {
   "cell_type": "code",
   "execution_count": 39,
   "id": "0c14d6d5",
   "metadata": {},
   "outputs": [
    {
     "name": "stderr",
     "output_type": "stream",
     "text": [
      "C:\\Users\\ruben\\AppData\\Local\\Temp\\ipykernel_8284\\414645636.py:1: FutureWarning: The default value of numeric_only in DataFrameGroupBy.sum is deprecated. In a future version, numeric_only will default to False. Either specify numeric_only or select only columns which should be valid for the function.\n",
      "  dfPerSex = df.groupby(['Year','Sex','In or Out']).sum()\n"
     ]
    }
   ],
   "source": [
    "dfPerSex = df.groupby(['Year','Sex','In or Out']).sum()"
   ]
  },
  {
   "cell_type": "code",
   "execution_count": 40,
   "id": "6bd2568e",
   "metadata": {},
   "outputs": [
    {
     "data": {
      "text/html": [
       "<div>\n",
       "<style scoped>\n",
       "    .dataframe tbody tr th:only-of-type {\n",
       "        vertical-align: middle;\n",
       "    }\n",
       "\n",
       "    .dataframe tbody tr th {\n",
       "        vertical-align: top;\n",
       "    }\n",
       "\n",
       "    .dataframe thead th {\n",
       "        text-align: right;\n",
       "    }\n",
       "</style>\n",
       "<table border=\"1\" class=\"dataframe\">\n",
       "  <thead>\n",
       "    <tr style=\"text-align: right;\">\n",
       "      <th></th>\n",
       "      <th>Year</th>\n",
       "      <th>Sex</th>\n",
       "      <th>In or Out</th>\n",
       "      <th>VALUE</th>\n",
       "    </tr>\n",
       "  </thead>\n",
       "  <tbody>\n",
       "    <tr>\n",
       "      <th>0</th>\n",
       "      <td>1987</td>\n",
       "      <td>Both sexes</td>\n",
       "      <td>Em</td>\n",
       "      <td>40.3</td>\n",
       "    </tr>\n",
       "    <tr>\n",
       "      <th>1</th>\n",
       "      <td>1987</td>\n",
       "      <td>Both sexes</td>\n",
       "      <td>Im</td>\n",
       "      <td>17.2</td>\n",
       "    </tr>\n",
       "    <tr>\n",
       "      <th>2</th>\n",
       "      <td>1987</td>\n",
       "      <td>Female</td>\n",
       "      <td>Em</td>\n",
       "      <td>18.6</td>\n",
       "    </tr>\n",
       "    <tr>\n",
       "      <th>3</th>\n",
       "      <td>1987</td>\n",
       "      <td>Female</td>\n",
       "      <td>Im</td>\n",
       "      <td>9.1</td>\n",
       "    </tr>\n",
       "    <tr>\n",
       "      <th>4</th>\n",
       "      <td>1987</td>\n",
       "      <td>Male</td>\n",
       "      <td>Em</td>\n",
       "      <td>21.6</td>\n",
       "    </tr>\n",
       "    <tr>\n",
       "      <th>...</th>\n",
       "      <td>...</td>\n",
       "      <td>...</td>\n",
       "      <td>...</td>\n",
       "      <td>...</td>\n",
       "    </tr>\n",
       "    <tr>\n",
       "      <th>217</th>\n",
       "      <td>2023</td>\n",
       "      <td>Both sexes</td>\n",
       "      <td>Im</td>\n",
       "      <td>141.6</td>\n",
       "    </tr>\n",
       "    <tr>\n",
       "      <th>218</th>\n",
       "      <td>2023</td>\n",
       "      <td>Female</td>\n",
       "      <td>Em</td>\n",
       "      <td>32.9</td>\n",
       "    </tr>\n",
       "    <tr>\n",
       "      <th>219</th>\n",
       "      <td>2023</td>\n",
       "      <td>Female</td>\n",
       "      <td>Im</td>\n",
       "      <td>75.5</td>\n",
       "    </tr>\n",
       "    <tr>\n",
       "      <th>220</th>\n",
       "      <td>2023</td>\n",
       "      <td>Male</td>\n",
       "      <td>Em</td>\n",
       "      <td>31.0</td>\n",
       "    </tr>\n",
       "    <tr>\n",
       "      <th>221</th>\n",
       "      <td>2023</td>\n",
       "      <td>Male</td>\n",
       "      <td>Im</td>\n",
       "      <td>66.0</td>\n",
       "    </tr>\n",
       "  </tbody>\n",
       "</table>\n",
       "<p>222 rows × 4 columns</p>\n",
       "</div>"
      ],
      "text/plain": [
       "     Year         Sex In or Out  VALUE\n",
       "0    1987  Both sexes        Em   40.3\n",
       "1    1987  Both sexes        Im   17.2\n",
       "2    1987      Female        Em   18.6\n",
       "3    1987      Female        Im    9.1\n",
       "4    1987        Male        Em   21.6\n",
       "..    ...         ...       ...    ...\n",
       "217  2023  Both sexes        Im  141.6\n",
       "218  2023      Female        Em   32.9\n",
       "219  2023      Female        Im   75.5\n",
       "220  2023        Male        Em   31.0\n",
       "221  2023        Male        Im   66.0\n",
       "\n",
       "[222 rows x 4 columns]"
      ]
     },
     "execution_count": 40,
     "metadata": {},
     "output_type": "execute_result"
    }
   ],
   "source": [
    "dfPerSex.reset_index()"
   ]
  },
  {
   "cell_type": "code",
   "execution_count": 42,
   "id": "6b5ea431",
   "metadata": {},
   "outputs": [],
   "source": [
    "dfPerSex1 = dfPerSex.reset_index(level=(\"Year\",\"Sex\",\"In or Out\"))"
   ]
  },
  {
   "cell_type": "code",
   "execution_count": 43,
   "id": "11c58661",
   "metadata": {},
   "outputs": [
    {
     "data": {
      "text/plain": [
       "RangeIndex(start=0, stop=222, step=1)"
      ]
     },
     "execution_count": 43,
     "metadata": {},
     "output_type": "execute_result"
    }
   ],
   "source": [
    "dfPerSex1.index"
   ]
  },
  {
   "cell_type": "code",
   "execution_count": 44,
   "id": "ea5336e7",
   "metadata": {},
   "outputs": [],
   "source": [
    "dfMale1 = dfPerSex1[dfPerSex1['Sex']=='Male']"
   ]
  },
  {
   "cell_type": "code",
   "execution_count": 45,
   "id": "444c7594",
   "metadata": {},
   "outputs": [
    {
     "data": {
      "text/html": [
       "<div>\n",
       "<style scoped>\n",
       "    .dataframe tbody tr th:only-of-type {\n",
       "        vertical-align: middle;\n",
       "    }\n",
       "\n",
       "    .dataframe tbody tr th {\n",
       "        vertical-align: top;\n",
       "    }\n",
       "\n",
       "    .dataframe thead th {\n",
       "        text-align: right;\n",
       "    }\n",
       "</style>\n",
       "<table border=\"1\" class=\"dataframe\">\n",
       "  <thead>\n",
       "    <tr style=\"text-align: right;\">\n",
       "      <th></th>\n",
       "      <th>Year</th>\n",
       "      <th>Sex</th>\n",
       "      <th>In or Out</th>\n",
       "      <th>VALUE</th>\n",
       "    </tr>\n",
       "  </thead>\n",
       "  <tbody>\n",
       "    <tr>\n",
       "      <th>4</th>\n",
       "      <td>1987</td>\n",
       "      <td>Male</td>\n",
       "      <td>Em</td>\n",
       "      <td>21.6</td>\n",
       "    </tr>\n",
       "    <tr>\n",
       "      <th>5</th>\n",
       "      <td>1987</td>\n",
       "      <td>Male</td>\n",
       "      <td>Im</td>\n",
       "      <td>8.1</td>\n",
       "    </tr>\n",
       "    <tr>\n",
       "      <th>10</th>\n",
       "      <td>1988</td>\n",
       "      <td>Male</td>\n",
       "      <td>Em</td>\n",
       "      <td>33.9</td>\n",
       "    </tr>\n",
       "    <tr>\n",
       "      <th>11</th>\n",
       "      <td>1988</td>\n",
       "      <td>Male</td>\n",
       "      <td>Im</td>\n",
       "      <td>9.9</td>\n",
       "    </tr>\n",
       "    <tr>\n",
       "      <th>16</th>\n",
       "      <td>1989</td>\n",
       "      <td>Male</td>\n",
       "      <td>Em</td>\n",
       "      <td>39.2</td>\n",
       "    </tr>\n",
       "  </tbody>\n",
       "</table>\n",
       "</div>"
      ],
      "text/plain": [
       "    Year   Sex In or Out  VALUE\n",
       "4   1987  Male        Em   21.6\n",
       "5   1987  Male        Im    8.1\n",
       "10  1988  Male        Em   33.9\n",
       "11  1988  Male        Im    9.9\n",
       "16  1989  Male        Em   39.2"
      ]
     },
     "execution_count": 45,
     "metadata": {},
     "output_type": "execute_result"
    }
   ],
   "source": [
    "dfMale1.head()"
   ]
  },
  {
   "cell_type": "code",
   "execution_count": 46,
   "id": "8b13aee3",
   "metadata": {},
   "outputs": [],
   "source": [
    "dfFemale1 = dfPerSex1[dfPerSex1['Sex']=='Female']"
   ]
  },
  {
   "cell_type": "code",
   "execution_count": 47,
   "id": "963a8007",
   "metadata": {},
   "outputs": [
    {
     "data": {
      "text/html": [
       "<div>\n",
       "<style scoped>\n",
       "    .dataframe tbody tr th:only-of-type {\n",
       "        vertical-align: middle;\n",
       "    }\n",
       "\n",
       "    .dataframe tbody tr th {\n",
       "        vertical-align: top;\n",
       "    }\n",
       "\n",
       "    .dataframe thead th {\n",
       "        text-align: right;\n",
       "    }\n",
       "</style>\n",
       "<table border=\"1\" class=\"dataframe\">\n",
       "  <thead>\n",
       "    <tr style=\"text-align: right;\">\n",
       "      <th></th>\n",
       "      <th>Year</th>\n",
       "      <th>Sex</th>\n",
       "      <th>In or Out</th>\n",
       "      <th>VALUE</th>\n",
       "    </tr>\n",
       "  </thead>\n",
       "  <tbody>\n",
       "    <tr>\n",
       "      <th>2</th>\n",
       "      <td>1987</td>\n",
       "      <td>Female</td>\n",
       "      <td>Em</td>\n",
       "      <td>18.6</td>\n",
       "    </tr>\n",
       "    <tr>\n",
       "      <th>3</th>\n",
       "      <td>1987</td>\n",
       "      <td>Female</td>\n",
       "      <td>Im</td>\n",
       "      <td>9.1</td>\n",
       "    </tr>\n",
       "    <tr>\n",
       "      <th>8</th>\n",
       "      <td>1988</td>\n",
       "      <td>Female</td>\n",
       "      <td>Em</td>\n",
       "      <td>27.2</td>\n",
       "    </tr>\n",
       "    <tr>\n",
       "      <th>9</th>\n",
       "      <td>1988</td>\n",
       "      <td>Female</td>\n",
       "      <td>Im</td>\n",
       "      <td>9.2</td>\n",
       "    </tr>\n",
       "    <tr>\n",
       "      <th>14</th>\n",
       "      <td>1989</td>\n",
       "      <td>Female</td>\n",
       "      <td>Em</td>\n",
       "      <td>31.2</td>\n",
       "    </tr>\n",
       "  </tbody>\n",
       "</table>\n",
       "</div>"
      ],
      "text/plain": [
       "    Year     Sex In or Out  VALUE\n",
       "2   1987  Female        Em   18.6\n",
       "3   1987  Female        Im    9.1\n",
       "8   1988  Female        Em   27.2\n",
       "9   1988  Female        Im    9.2\n",
       "14  1989  Female        Em   31.2"
      ]
     },
     "execution_count": 47,
     "metadata": {},
     "output_type": "execute_result"
    }
   ],
   "source": [
    "dfFemale1.head()"
   ]
  },
  {
   "cell_type": "code",
   "execution_count": 48,
   "id": "e16b355f",
   "metadata": {},
   "outputs": [],
   "source": [
    "dfOverall = dfPerSex1[dfPerSex1['Sex']=='Both sexes']"
   ]
  },
  {
   "cell_type": "code",
   "execution_count": 49,
   "id": "45dfefc9",
   "metadata": {},
   "outputs": [
    {
     "data": {
      "text/html": [
       "<div>\n",
       "<style scoped>\n",
       "    .dataframe tbody tr th:only-of-type {\n",
       "        vertical-align: middle;\n",
       "    }\n",
       "\n",
       "    .dataframe tbody tr th {\n",
       "        vertical-align: top;\n",
       "    }\n",
       "\n",
       "    .dataframe thead th {\n",
       "        text-align: right;\n",
       "    }\n",
       "</style>\n",
       "<table border=\"1\" class=\"dataframe\">\n",
       "  <thead>\n",
       "    <tr style=\"text-align: right;\">\n",
       "      <th></th>\n",
       "      <th>Year</th>\n",
       "      <th>Sex</th>\n",
       "      <th>In or Out</th>\n",
       "      <th>VALUE</th>\n",
       "    </tr>\n",
       "  </thead>\n",
       "  <tbody>\n",
       "    <tr>\n",
       "      <th>0</th>\n",
       "      <td>1987</td>\n",
       "      <td>Both sexes</td>\n",
       "      <td>Em</td>\n",
       "      <td>40.3</td>\n",
       "    </tr>\n",
       "    <tr>\n",
       "      <th>1</th>\n",
       "      <td>1987</td>\n",
       "      <td>Both sexes</td>\n",
       "      <td>Im</td>\n",
       "      <td>17.2</td>\n",
       "    </tr>\n",
       "    <tr>\n",
       "      <th>6</th>\n",
       "      <td>1988</td>\n",
       "      <td>Both sexes</td>\n",
       "      <td>Em</td>\n",
       "      <td>61.0</td>\n",
       "    </tr>\n",
       "    <tr>\n",
       "      <th>7</th>\n",
       "      <td>1988</td>\n",
       "      <td>Both sexes</td>\n",
       "      <td>Im</td>\n",
       "      <td>19.2</td>\n",
       "    </tr>\n",
       "    <tr>\n",
       "      <th>12</th>\n",
       "      <td>1989</td>\n",
       "      <td>Both sexes</td>\n",
       "      <td>Em</td>\n",
       "      <td>70.5</td>\n",
       "    </tr>\n",
       "  </tbody>\n",
       "</table>\n",
       "</div>"
      ],
      "text/plain": [
       "    Year         Sex In or Out  VALUE\n",
       "0   1987  Both sexes        Em   40.3\n",
       "1   1987  Both sexes        Im   17.2\n",
       "6   1988  Both sexes        Em   61.0\n",
       "7   1988  Both sexes        Im   19.2\n",
       "12  1989  Both sexes        Em   70.5"
      ]
     },
     "execution_count": 49,
     "metadata": {},
     "output_type": "execute_result"
    }
   ],
   "source": [
    "dfOverall.head()"
   ]
  },
  {
   "cell_type": "code",
   "execution_count": 58,
   "id": "a21f1bc6",
   "metadata": {},
   "outputs": [
    {
     "data": {
      "text/plain": [
       "<Axes: xlabel='Year', ylabel='VALUE'>"
      ]
     },
     "execution_count": 58,
     "metadata": {},
     "output_type": "execute_result"
    },
    {
     "data": {
      "image/png": "[encoded data removed]",
      "text/plain": [
       "<Figure size 2500x800 with 1 Axes>"
      ]
     },
     "metadata": {},
     "output_type": "display_data"
    }
   ],
   "source": [
    "#ploting to ilustrate migration and immigration of each sex over the years\n",
    "\n",
    "sns.set(rc={'figure.figsize':(25,8)})\n",
    "sns.barplot(y=dfMale1.VALUE, x=dfMale1.Year, hue=dfMale1['In or Out'])"
   ]
  },
  {
   "cell_type": "code",
   "execution_count": 78,
   "id": "c0932851",
   "metadata": {},
   "outputs": [
    {
     "name": "stdout",
     "output_type": "stream",
     "text": [
      "For Male Migration:\n",
      "Mean: 25.27 \n",
      "Median: 25.4 \n",
      "Mode: 0    18.0\n",
      "Name: VALUE, dtype: float64\n"
     ]
    }
   ],
   "source": [
    "#Measures of central tendency\n",
    "meanMaleEm = np.mean(dfMale1[dfMale1['In or Out']=='Em'].VALUE)\n",
    "medianMaleEm = np.median(dfMale1[dfMale1['In or Out']=='Em'].VALUE)\n",
    "modeMaleEm = dfMale1[dfMale1['In or Out']=='Em'].VALUE.mode()\n",
    "\n",
    "print('For Male Migration:\\nMean: {} \\nMedian: {} \\nMode: {}'.format(round(meanMaleEm, 2), round(medianMaleEm,2), round(modeMaleEm)))"
   ]
  },
  {
   "cell_type": "code",
   "execution_count": 79,
   "id": "34b99ef4",
   "metadata": {},
   "outputs": [
    {
     "name": "stdout",
     "output_type": "stream",
     "text": [
      "For Male Immigration:\n",
      "Mean: 32.63 \n",
      "Median: 30.6 \n",
      "Mode: 0    21.9\n",
      "1    47.3\n",
      "Name: VALUE, dtype: float64\n"
     ]
    }
   ],
   "source": [
    "#Measures of central tendency\n",
    "meanMaleIm = np.mean(dfMale1[dfMale1['In or Out']=='Im'].VALUE)\n",
    "medianMaleIm = np.median(dfMale1[dfMale1['In or Out']=='Im'].VALUE)\n",
    "modeMaleIm = dfMale1[dfMale1['In or Out']=='Im'].VALUE.mode()\n",
    "\n",
    "print('For Male Immigration:\\nMean: {} \\nMedian: {} \\nMode: {}'.format(round(meanMaleIm, 2), round(medianMaleIm,2), round(modeMaleIm,2)))"
   ]
  },
  {
   "cell_type": "code",
   "execution_count": 63,
   "id": "0020979c",
   "metadata": {},
   "outputs": [
    {
     "data": {
      "text/plain": [
       "<Axes: xlabel='Year', ylabel='VALUE'>"
      ]
     },
     "execution_count": 63,
     "metadata": {},
     "output_type": "execute_result"
    },
    {
     "data": {
      "image/png": "[encoded data removed]",
      "text/plain": [
       "<Figure size 2500x800 with 1 Axes>"
      ]
     },
     "metadata": {},
     "output_type": "display_data"
    }
   ],
   "source": [
    "sns.set(rc={'figure.figsize':(25,8)})\n",
    "sns.barplot(y=dfFemale1.VALUE, x=dfFemale1.Year, hue=dfFemale1['In or Out'])"
   ]
  },
  {
   "cell_type": "code",
   "execution_count": 82,
   "id": "84f2850b",
   "metadata": {},
   "outputs": [
    {
     "name": "stdout",
     "output_type": "stream",
     "text": [
      "For Female Migration:\n",
      "Mean: 23.21 \n",
      "Median: 20.6 \n",
      "Mode: 0     12.3\n",
      "1     12.8\n",
      "2     12.9\n",
      "3     13.6\n",
      "4     13.6\n",
      "5     14.0\n",
      "6     14.5\n",
      "7     14.6\n",
      "8     14.8\n",
      "9     16.0\n",
      "10    16.0\n",
      "11    16.1\n",
      "12    17.2\n",
      "13    17.3\n",
      "14    17.5\n",
      "15    17.7\n",
      "16    18.6\n",
      "17    19.6\n",
      "18    20.6\n",
      "19    25.6\n",
      "20    26.3\n",
      "21    26.5\n",
      "22    26.6\n",
      "23    27.0\n",
      "24    27.2\n",
      "25    27.7\n",
      "26    27.7\n",
      "27    28.7\n",
      "28    30.2\n",
      "29    31.2\n",
      "30    32.9\n",
      "31    34.1\n",
      "32    35.1\n",
      "33    36.6\n",
      "34    37.1\n",
      "35    38.7\n",
      "36    39.7\n",
      "Name: VALUE, dtype: float64\n"
     ]
    }
   ],
   "source": [
    "#Measures of central tendency\n",
    "meanFemaleEm = np.mean(dfFemale1[dfFemale1['In or Out']=='Em'].VALUE)\n",
    "medianFemaleEm = np.median(dfFemale1[dfFemale1['In or Out']=='Em'].VALUE)\n",
    "modeFemaleEm = dfFemale1[dfFemale1['In or Out']=='Em'].VALUE.mode() #seems all values are different\n",
    "\n",
    "print('For Female Migration:\\nMean: {} \\nMedian: {} \\nMode: {}'.format(round(meanFemaleEm, 2), round(medianFemaleEm,2), round(modeFemaleEm,2)))"
   ]
  },
  {
   "cell_type": "code",
   "execution_count": 84,
   "id": "bf06433c",
   "metadata": {},
   "outputs": [
    {
     "name": "stdout",
     "output_type": "stream",
     "text": [
      "For Female Immigration:\n",
      "Mean: 32.75 \n",
      "Median: 28.9 \n",
      "Mode: 0    48.6\n",
      "Name: VALUE, dtype: float64\n"
     ]
    }
   ],
   "source": [
    "#Measures of central tendency\n",
    "meanFemaleIm = np.mean(dfFemale1[dfFemale1['In or Out']=='Im'].VALUE)\n",
    "medianFemaleIm = np.median(dfFemale1[dfFemale1['In or Out']=='Im'].VALUE)\n",
    "modeFemaleIm = dfFemale1[dfFemale1['In or Out']=='Im'].VALUE.mode()\n",
    "\n",
    "print('For Female Immigration:\\nMean: {} \\nMedian: {} \\nMode: {}'.format(round(meanFemaleIm, 2), round(medianFemaleIm,2), round(modeFemaleIm,2)))"
   ]
  },
  {
   "cell_type": "code",
   "execution_count": 53,
   "id": "674087ef",
   "metadata": {},
   "outputs": [
    {
     "data": {
      "text/plain": [
       "<Axes: xlabel='Year', ylabel='VALUE'>"
      ]
     },
     "execution_count": 53,
     "metadata": {},
     "output_type": "execute_result"
    },
    {
     "data": {
      "image/png": "[encoded data removed]",
      "text/plain": [
       "<Figure size 2500x800 with 1 Axes>"
      ]
     },
     "metadata": {},
     "output_type": "display_data"
    }
   ],
   "source": [
    "sns.set(rc={'figure.figsize':(25,8)})\n",
    "sns.barplot(y=dfOverall.VALUE, x=dfOverall.Year, hue=dfOverall['In or Out'])"
   ]
  },
  {
   "cell_type": "code",
   "execution_count": 85,
   "id": "29e709df",
   "metadata": {},
   "outputs": [
    {
     "name": "stdout",
     "output_type": "stream",
     "text": [
      "For Overall Migration:\n",
      "Mean: 48.47 \n",
      "Median: 49.3 \n",
      "Standard Deviation: 0     25.3\n",
      "1     25.6\n",
      "2     26.3\n",
      "3     26.5\n",
      "4     26.7\n",
      "5     28.7\n",
      "6     29.2\n",
      "7     29.4\n",
      "8     31.1\n",
      "9     31.6\n",
      "10    33.1\n",
      "11    33.4\n",
      "12    34.8\n",
      "13    35.2\n",
      "14    35.4\n",
      "15    36.0\n",
      "16    40.3\n",
      "17    46.3\n",
      "18    49.3\n",
      "19    50.8\n",
      "20    51.7\n",
      "21    52.4\n",
      "22    53.1\n",
      "23    56.0\n",
      "24    56.1\n",
      "25    56.3\n",
      "26    61.0\n",
      "27    64.0\n",
      "28    66.1\n",
      "29    69.2\n",
      "30    70.0\n",
      "31    70.5\n",
      "32    72.1\n",
      "33    74.9\n",
      "34    80.6\n",
      "35    81.4\n",
      "36    82.9\n",
      "Name: VALUE, dtype: float64\n"
     ]
    }
   ],
   "source": [
    "#Measures of central tendency\n",
    "meanOverallEm = np.mean(dfOverall[dfOverall['In or Out']=='Em'].VALUE)\n",
    "medianOverallEm = np.median(dfOverall[dfOverall['In or Out']=='Em'].VALUE)\n",
    "modeOverallEm = dfOverall[dfOverall['In or Out']=='Em'].VALUE.mode() #all valuues different\n",
    "\n",
    "print('For Overall Migration:\\nMean: {} \\nMedian: {} \\nStandard Deviation: {}'.format(round(meanOverallEm, 2), round(medianOverallEm,2), round(modeOverallEm,2)))"
   ]
  },
  {
   "cell_type": "code",
   "execution_count": 87,
   "id": "586c2b80",
   "metadata": {},
   "outputs": [
    {
     "name": "stdout",
     "output_type": "stream",
     "text": [
      "For Overall Migration:\n",
      "Mean: 65.4 \n",
      "Median: 58.9 \n",
      "Mode: 0      17.2\n",
      "1      19.2\n",
      "2      26.7\n",
      "3      30.2\n",
      "4      31.2\n",
      "5      33.3\n",
      "6      33.4\n",
      "7      34.8\n",
      "8      39.2\n",
      "9      40.7\n",
      "10     41.8\n",
      "11     44.6\n",
      "12     45.9\n",
      "13     48.8\n",
      "14     52.5\n",
      "15     53.2\n",
      "16     57.3\n",
      "17     58.5\n",
      "18     58.9\n",
      "19     60.0\n",
      "20     62.7\n",
      "21     66.5\n",
      "22     67.0\n",
      "23     73.7\n",
      "24     74.1\n",
      "25     75.8\n",
      "26     82.3\n",
      "27     84.5\n",
      "28     95.2\n",
      "29     95.6\n",
      "30     96.0\n",
      "31     97.1\n",
      "32    107.8\n",
      "33    107.9\n",
      "34    113.5\n",
      "35    141.6\n",
      "36    151.1\n",
      "Name: VALUE, dtype: float64\n"
     ]
    }
   ],
   "source": [
    "meanOverallIm = np.mean(dfOverall[dfOverall['In or Out']=='Im'].VALUE)\n",
    "medianOverallIm = np.median(dfOverall[dfOverall['In or Out']=='Im'].VALUE)\n",
    "modeOverallIm = dfOverall[dfOverall['In or Out']=='Im'].VALUE.mode() #all values different\n",
    "\n",
    "print('For Overall Migration:\\nMean: {} \\nMedian: {} \\nMode:'.format(round(meanOverallIm, 2), round(medianOverallIm,2), round(modeOverallIm,2)))"
   ]
  },
  {
   "cell_type": "code",
   "execution_count": null,
   "id": "7070d396",
   "metadata": {},
   "outputs": [],
   "source": []
  },
  {
   "cell_type": "code",
   "execution_count": null,
   "id": "f423292b",
   "metadata": {},
   "outputs": [],
   "source": []
  },
  {
   "cell_type": "code",
   "execution_count": null,
   "id": "d86c727d",
   "metadata": {},
   "outputs": [],
   "source": []
  },
  {
   "cell_type": "code",
   "execution_count": null,
   "id": "d1754412",
   "metadata": {},
   "outputs": [],
   "source": [
    "dfFemale = df[df['Sex']=='Female'] #Dividing into Male, Female and Both Sexes"
   ]
  },
  {
   "cell_type": "code",
   "execution_count": null,
   "id": "4e974f71",
   "metadata": {},
   "outputs": [],
   "source": [
    "dfFemale.head(10)"
   ]
  },
  {
   "cell_type": "code",
   "execution_count": null,
   "id": "fc70c757",
   "metadata": {},
   "outputs": [],
   "source": [
    "dfFemale.shape"
   ]
  },
  {
   "cell_type": "code",
   "execution_count": null,
   "id": "6e2aa40a",
   "metadata": {},
   "outputs": [],
   "source": [
    "dfMale = df[df['Sex']=='Male']"
   ]
  },
  {
   "cell_type": "code",
   "execution_count": null,
   "id": "17f73676",
   "metadata": {},
   "outputs": [],
   "source": [
    "dfMale.head()"
   ]
  },
  {
   "cell_type": "code",
   "execution_count": null,
   "id": "2ae05275",
   "metadata": {},
   "outputs": [],
   "source": [
    "dfMale.shape"
   ]
  },
  {
   "cell_type": "code",
   "execution_count": null,
   "id": "f4f1df17",
   "metadata": {},
   "outputs": [],
   "source": [
    "dfBothSexes = df[df['Sex']=='Both sexes']"
   ]
  },
  {
   "cell_type": "code",
   "execution_count": null,
   "id": "e2b842c7",
   "metadata": {},
   "outputs": [],
   "source": [
    "dfBothSexes.Year.unique()"
   ]
  },
  {
   "cell_type": "code",
   "execution_count": null,
   "id": "50f6b753",
   "metadata": {},
   "outputs": [],
   "source": [
    "dfBothSexes.shape"
   ]
  },
  {
   "cell_type": "code",
   "execution_count": null,
   "id": "b7b9ce2f",
   "metadata": {},
   "outputs": [],
   "source": [
    "#Detecting outliers\n",
    "sns.boxplot(y=dfFemale['Age Group'], x=dfFemale.VALUE, hue=dfFemale[\"Inward or Outward Flow\"])"
   ]
  },
  {
   "cell_type": "code",
   "execution_count": null,
   "id": "86f188a7",
   "metadata": {},
   "outputs": [],
   "source": [
    "sns.boxplot(y=dfMale['Age Group'], x=dfMale.VALUE, hue=dfMale[\"Inward or Outward Flow\"])"
   ]
  },
  {
   "cell_type": "code",
   "execution_count": null,
   "id": "0625f4bd",
   "metadata": {},
   "outputs": [],
   "source": [
    "sns.boxplot(y=dfBothSexes['VALUE'], x=dfBothSexes.Year, hue=dfBothSexes[\"Inward or Outward Flow\"])"
   ]
  },
  {
   "cell_type": "code",
   "execution_count": null,
   "id": "36d94cdb",
   "metadata": {},
   "outputs": [],
   "source": [
    "#dfNoNetMigration.loc[dfNoNetMigration['Sex']=='Both sexes'].head(20)"
   ]
  },
  {
   "cell_type": "code",
   "execution_count": null,
   "id": "bfd90036",
   "metadata": {},
   "outputs": [],
   "source": [
    "dfMale['Age Group'].unique() #getting arrays to go through for eliminating outliers\n",
    "\n",
    "#since the info is classified per age group and inward or outward, can´t apply elimitation of ouliers to the whole database"
   ]
  },
  {
   "cell_type": "code",
   "execution_count": null,
   "id": "9bdf129e",
   "metadata": {},
   "outputs": [],
   "source": [
    "dfMale['Inward or Outward Flow'].unique()"
   ]
  },
  {
   "cell_type": "code",
   "execution_count": null,
   "id": "5563a24b",
   "metadata": {},
   "outputs": [],
   "source": [
    "#sns.boxplot(y=dfMale['Age Group'], x=dfMale.VALUE, hue=dfMale[\"Inward or Outward Flow\"])"
   ]
  },
  {
   "cell_type": "code",
   "execution_count": null,
   "id": "6fc701b5",
   "metadata": {},
   "outputs": [],
   "source": []
  },
  {
   "cell_type": "code",
   "execution_count": null,
   "id": "262bb29f",
   "metadata": {},
   "outputs": [],
   "source": [
    "\"\"\"for a in dfMale['Age Group'].unique():\n",
    "    for b in dfMale['Inward or Outward Flow'].unique():\n",
    "        locRow = dfMale.loc[(dfMale['Age Group']==a) & (dfMale['Inward or Outward Flow'] == b)]\n",
    "        Q1 = locRow.quantile(0.25)\n",
    "        Q3 = locRow.quantile(0.75)\n",
    "        IQR = Q3 - Q1\n",
    "        locRow = locRow[~((locRow<(Q1-1.5*IQR))|(locRow>(Q3+1.5*IQR))).any(axis=1)]\"\"\"\n"
   ]
  },
  {
   "cell_type": "code",
   "execution_count": null,
   "id": "22f35e65",
   "metadata": {},
   "outputs": [],
   "source": [
    "dfTotal = dfBothSexes.groupby(['Year','Inward or Outward Flow']).sum()"
   ]
  },
  {
   "cell_type": "code",
   "execution_count": null,
   "id": "feb7ddf3",
   "metadata": {},
   "outputs": [],
   "source": []
  },
  {
   "cell_type": "code",
   "execution_count": null,
   "id": "a92003f0",
   "metadata": {},
   "outputs": [],
   "source": [
    "dfTotal = dfTotal.reset_index(level=(\"Year\",\"Inward or Outward Flow\"))"
   ]
  },
  {
   "cell_type": "code",
   "execution_count": null,
   "id": "8503f074",
   "metadata": {},
   "outputs": [],
   "source": [
    "dfTotal.head()"
   ]
  },
  {
   "cell_type": "code",
   "execution_count": null,
   "id": "21958955",
   "metadata": {},
   "outputs": [],
   "source": [
    "sns.set(rc={'figure.figsize':(20,8)})\n",
    "sns.barplot(y=dfTotal.VALUE, x=dfTotal.Year)"
   ]
  },
  {
   "cell_type": "code",
   "execution_count": null,
   "id": "e00bd83e",
   "metadata": {},
   "outputs": [],
   "source": [
    "sns.boxplot(x=dfTotal[dfTotal['Inward or Outward Flow']=='Emigrants: All destinations'].VALUE) \n",
    "#Detecting outliers for each migration and immigration"
   ]
  },
  {
   "cell_type": "code",
   "execution_count": null,
   "id": "31532a0a",
   "metadata": {},
   "outputs": [],
   "source": [
    "sns.boxplot(x=dfTotal[dfTotal['Inward or Outward Flow']=='Immigrants: All origins'].VALUE)"
   ]
  },
  {
   "cell_type": "code",
   "execution_count": null,
   "id": "b33ab9ad",
   "metadata": {},
   "outputs": [],
   "source": [
    "dfTotalEmigration = dfTotal[dfTotal['Inward or Outward Flow']=='Emigrants: All destinations']\n",
    "Q1 = dfTotalEmigration.quantile(0.25)\n",
    "Q3 = dfTotalEmigration.quantile(0.75)\n",
    "IQR = Q3 - Q1\n",
    "dfTotalEmigration = dfTotalEmigration[~((dfTotalEmigration<(Q1-1.5*IQR))|(dfTotalEmigration>(Q3+1.5*IQR))).any(axis=1)]"
   ]
  },
  {
   "cell_type": "code",
   "execution_count": null,
   "id": "e3ddd31e",
   "metadata": {},
   "outputs": [],
   "source": [
    "sns.boxplot(x=dfTotalEmigration.VALUE)"
   ]
  },
  {
   "cell_type": "code",
   "execution_count": null,
   "id": "99ecc3e1",
   "metadata": {},
   "outputs": [],
   "source": [
    "\"\"\"dfTotalImmigration = dfTotal[dfTotal['Inward or Outward Flow']=='Immigrants: All origins']\n",
    "Q1 = dfTotalImmigration.quantile(0.25)\n",
    "Q3 = dfTotalImmigration.quantile(0.75)\n",
    "IQR = Q3 - Q1\n",
    "dfTotalImmigration = dfTotalImmigration[~((dfTotalImmigration<(Q1-1.5*IQR))|(dfTotalImmigration>(Q3+1.5*IQR))).any(axis=1)]\"\"\"\n",
    "dfTotalImmigration = dfTotal[dfTotal['Inward or Outward Flow']=='Immigrants: All origins']\n",
    "#When removing the outliers, we lose the whole year 2007"
   ]
  },
  {
   "cell_type": "code",
   "execution_count": null,
   "id": "8b7d2fff",
   "metadata": {},
   "outputs": [],
   "source": [
    "#sns.boxplot(x=dfTotalImmigration.VALUE) #outliers eliminated"
   ]
  },
  {
   "cell_type": "code",
   "execution_count": null,
   "id": "cd542b62",
   "metadata": {},
   "outputs": [],
   "source": [
    "\n",
    "c=dfTotal.corr()\n",
    "sns.heatmap(c,cmap=\"BrBG\",annot=True)"
   ]
  },
  {
   "cell_type": "code",
   "execution_count": null,
   "id": "22fb96e4",
   "metadata": {},
   "outputs": [],
   "source": [
    "sns.set(rc={'figure.figsize':(20,8)})\n",
    "sns.barplot(y=dfTotalEmigration.VALUE, x=dfTotal.Year)"
   ]
  },
  {
   "cell_type": "code",
   "execution_count": null,
   "id": "e1a87d47",
   "metadata": {},
   "outputs": [],
   "source": [
    "sns.set(rc={'figure.figsize':(20,8)})\n",
    "sns.barplot(y=dfTotalImmigration.VALUE, x=dfTotal.Year)"
   ]
  },
  {
   "cell_type": "code",
   "execution_count": null,
   "id": "f8df3846",
   "metadata": {},
   "outputs": [],
   "source": [
    "sns.set(rc={'figure.figsize':(20,8)})\n",
    "sns.barplot(y=dfTotal.VALUE,x=dfTotal.Year, hue='Inward or Outward Flow')"
   ]
  },
  {
   "cell_type": "code",
   "execution_count": null,
   "id": "67cd1b53",
   "metadata": {},
   "outputs": [],
   "source": [
    "fig,ax = plt.subplots(figsize=(10,6))\n",
    "ax.scatter(dfBothSexes['Age Group'],dfBothSexes['VALUE'])"
   ]
  },
  {
   "cell_type": "code",
   "execution_count": null,
   "id": "4c0a1758",
   "metadata": {},
   "outputs": [],
   "source": [
    "fig,ax = plt.subplots(figsize=(10,6))\n",
    "ax.scatter(dfNoNetMigration[dfNoNetMigration['Inward or Outward Flow']==\"Emigrants: All destinations\"]['Sex'],dfNoNetMigration[dfNoNetMigration['Inward or Outward Flow']==\"Emigrants: All destinations\"]['VALUE'])"
   ]
  },
  {
   "cell_type": "code",
   "execution_count": null,
   "id": "193426de",
   "metadata": {},
   "outputs": [],
   "source": [
    "males = dfNoNetMigration[dfNoNetMigration['Sex'] == 'Male']\n",
    "males['Sex'].value_counts(normalize = True)"
   ]
  },
  {
   "cell_type": "code",
   "execution_count": null,
   "id": "b1ee3161",
   "metadata": {},
   "outputs": [],
   "source": [
    "dfNoNetMigration['Sex'].value_counts"
   ]
  },
  {
   "cell_type": "code",
   "execution_count": null,
   "id": "eb28879d",
   "metadata": {},
   "outputs": [],
   "source": [
    "dfNoNetMigration.groupby('Sex').sum()['VALUE']"
   ]
  },
  {
   "cell_type": "code",
   "execution_count": null,
   "id": "1fad838d",
   "metadata": {},
   "outputs": [],
   "source": [
    "meanFemale = np.mean(dfNoNetMigration.loc[(dfNoNetMigration['Sex']=='Female')&(dfNoNetMigration['Inward or Outward Flow']=='Emigrants: All destinations')]['VALUE'])\n",
    "medianFemale = np.median(dfNoNetMigration.loc[(dfNoNetMigration['Sex']=='Female')&(dfNoNetMigration['Inward or Outward Flow']=='Emigrants: All destinations')]['VALUE'])\n",
    "stdFemale = np.std(dfNoNetMigration.loc[(dfNoNetMigration['Sex']=='Female')&(dfNoNetMigration['Inward or Outward Flow']=='Emigrants: All destinations')]['VALUE'])\n",
    "\n",
    "print('For female Emigration\\nMean: {} Thousand \\nMedian: {} Thousand'.format(round(meanFemale , 2) , round(medianFemale , 2)))"
   ]
  },
  {
   "cell_type": "code",
   "execution_count": null,
   "id": "ddefdd77",
   "metadata": {},
   "outputs": [],
   "source": [
    "meanMale = np.mean(dfNoNetMigration.loc[(dfNoNetMigration['Sex']=='Male')&(dfNoNetMigration['Inward or Outward Flow']=='Emigrants: All destinations')]['VALUE'])\n",
    "medianMale = np.median(dfNoNetMigration.loc[(dfNoNetMigration['Sex']=='Male')&(dfNoNetMigration['Inward or Outward Flow']=='Emigrants: All destinations')]['VALUE'])\n",
    "stdMale = np.std(dfNoNetMigration.loc[(dfNoNetMigration['Sex']=='Male')&(dfNoNetMigration['Inward or Outward Flow']=='Emigrants: All destinations')]['VALUE'])\n",
    "\n",
    "print('For Male Emigration\\nMean: {} Thousand \\nMedian: {} Thousand \\nStandardDeviation: {} Thousand'.format(round(meanMale , 2) , round(medianMale , 2), round(stdMale , 2)))"
   ]
  },
  {
   "cell_type": "code",
   "execution_count": null,
   "id": "7c6c06db",
   "metadata": {},
   "outputs": [],
   "source": []
  }
 ],
 "metadata": {
  "kernelspec": {
   "display_name": "Python 3 (ipykernel)",
   "language": "python",
   "name": "python3"
  },
  "language_info": {
   "codemirror_mode": {
    "name": "ipython",
    "version": 3
   },
   "file_extension": ".py",
   "mimetype": "text/x-python",
   "name": "python",
   "nbconvert_exporter": "python",
   "pygments_lexer": "ipython3",
   "version": "3.11.4"
  }
 },
 "nbformat": 4,
 "nbformat_minor": 5
}
