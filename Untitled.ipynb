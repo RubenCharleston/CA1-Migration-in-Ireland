{
 "cells": [
  {
   "cell_type": "code",
   "execution_count": 1,
   "id": "37f9f6db",
   "metadata": {},
   "outputs": [],
   "source": [
    "import pandas as pd\n",
    "import seaborn as sns"
   ]
  },
  {
   "cell_type": "code",
   "execution_count": 2,
   "id": "73858861",
   "metadata": {},
   "outputs": [],
   "source": [
    "dfMigration = pd.read_csv(\"Estimated_Migration.csv\")\n",
    "dfImmigration = pd.read_csv(\"Estimated_Immigration.csv\")"
   ]
  },
  {
   "cell_type": "code",
   "execution_count": 3,
   "id": "e65a356c",
   "metadata": {},
   "outputs": [
    {
     "data": {
      "text/html": [
       "<div>\n",
       "<style scoped>\n",
       "    .dataframe tbody tr th:only-of-type {\n",
       "        vertical-align: middle;\n",
       "    }\n",
       "\n",
       "    .dataframe tbody tr th {\n",
       "        vertical-align: top;\n",
       "    }\n",
       "\n",
       "    .dataframe thead th {\n",
       "        text-align: right;\n",
       "    }\n",
       "</style>\n",
       "<table border=\"1\" class=\"dataframe\">\n",
       "  <thead>\n",
       "    <tr style=\"text-align: right;\">\n",
       "      <th></th>\n",
       "      <th>STATISTIC Label</th>\n",
       "      <th>Year</th>\n",
       "      <th>Age Group</th>\n",
       "      <th>Sex</th>\n",
       "      <th>Inward or Outward Flow</th>\n",
       "      <th>UNIT</th>\n",
       "      <th>VALUE</th>\n",
       "    </tr>\n",
       "  </thead>\n",
       "  <tbody>\n",
       "    <tr>\n",
       "      <th>0</th>\n",
       "      <td>Estimated Migration (Persons in April)</td>\n",
       "      <td>1987</td>\n",
       "      <td>All ages</td>\n",
       "      <td>Both sexes</td>\n",
       "      <td>Net migration</td>\n",
       "      <td>Thousand</td>\n",
       "      <td>-23.0</td>\n",
       "    </tr>\n",
       "    <tr>\n",
       "      <th>1</th>\n",
       "      <td>Estimated Migration (Persons in April)</td>\n",
       "      <td>1987</td>\n",
       "      <td>All ages</td>\n",
       "      <td>Both sexes</td>\n",
       "      <td>Emigrants: All destinations</td>\n",
       "      <td>Thousand</td>\n",
       "      <td>40.2</td>\n",
       "    </tr>\n",
       "    <tr>\n",
       "      <th>2</th>\n",
       "      <td>Estimated Migration (Persons in April)</td>\n",
       "      <td>1987</td>\n",
       "      <td>All ages</td>\n",
       "      <td>Both sexes</td>\n",
       "      <td>Immigrants: All origins</td>\n",
       "      <td>Thousand</td>\n",
       "      <td>17.2</td>\n",
       "    </tr>\n",
       "    <tr>\n",
       "      <th>3</th>\n",
       "      <td>Estimated Migration (Persons in April)</td>\n",
       "      <td>1987</td>\n",
       "      <td>All ages</td>\n",
       "      <td>Male</td>\n",
       "      <td>Net migration</td>\n",
       "      <td>Thousand</td>\n",
       "      <td>NaN</td>\n",
       "    </tr>\n",
       "    <tr>\n",
       "      <th>4</th>\n",
       "      <td>Estimated Migration (Persons in April)</td>\n",
       "      <td>1987</td>\n",
       "      <td>All ages</td>\n",
       "      <td>Male</td>\n",
       "      <td>Emigrants: All destinations</td>\n",
       "      <td>Thousand</td>\n",
       "      <td>NaN</td>\n",
       "    </tr>\n",
       "    <tr>\n",
       "      <th>5</th>\n",
       "      <td>Estimated Migration (Persons in April)</td>\n",
       "      <td>1987</td>\n",
       "      <td>All ages</td>\n",
       "      <td>Male</td>\n",
       "      <td>Immigrants: All origins</td>\n",
       "      <td>Thousand</td>\n",
       "      <td>NaN</td>\n",
       "    </tr>\n",
       "    <tr>\n",
       "      <th>6</th>\n",
       "      <td>Estimated Migration (Persons in April)</td>\n",
       "      <td>1987</td>\n",
       "      <td>All ages</td>\n",
       "      <td>Female</td>\n",
       "      <td>Net migration</td>\n",
       "      <td>Thousand</td>\n",
       "      <td>NaN</td>\n",
       "    </tr>\n",
       "    <tr>\n",
       "      <th>7</th>\n",
       "      <td>Estimated Migration (Persons in April)</td>\n",
       "      <td>1987</td>\n",
       "      <td>All ages</td>\n",
       "      <td>Female</td>\n",
       "      <td>Emigrants: All destinations</td>\n",
       "      <td>Thousand</td>\n",
       "      <td>NaN</td>\n",
       "    </tr>\n",
       "    <tr>\n",
       "      <th>8</th>\n",
       "      <td>Estimated Migration (Persons in April)</td>\n",
       "      <td>1987</td>\n",
       "      <td>All ages</td>\n",
       "      <td>Female</td>\n",
       "      <td>Immigrants: All origins</td>\n",
       "      <td>Thousand</td>\n",
       "      <td>NaN</td>\n",
       "    </tr>\n",
       "    <tr>\n",
       "      <th>9</th>\n",
       "      <td>Estimated Migration (Persons in April)</td>\n",
       "      <td>1987</td>\n",
       "      <td>0 - 14 years</td>\n",
       "      <td>Both sexes</td>\n",
       "      <td>Net migration</td>\n",
       "      <td>Thousand</td>\n",
       "      <td>NaN</td>\n",
       "    </tr>\n",
       "    <tr>\n",
       "      <th>10</th>\n",
       "      <td>Estimated Migration (Persons in April)</td>\n",
       "      <td>1987</td>\n",
       "      <td>0 - 14 years</td>\n",
       "      <td>Both sexes</td>\n",
       "      <td>Emigrants: All destinations</td>\n",
       "      <td>Thousand</td>\n",
       "      <td>2.8</td>\n",
       "    </tr>\n",
       "    <tr>\n",
       "      <th>11</th>\n",
       "      <td>Estimated Migration (Persons in April)</td>\n",
       "      <td>1987</td>\n",
       "      <td>0 - 14 years</td>\n",
       "      <td>Both sexes</td>\n",
       "      <td>Immigrants: All origins</td>\n",
       "      <td>Thousand</td>\n",
       "      <td>3.1</td>\n",
       "    </tr>\n",
       "    <tr>\n",
       "      <th>12</th>\n",
       "      <td>Estimated Migration (Persons in April)</td>\n",
       "      <td>1987</td>\n",
       "      <td>0 - 14 years</td>\n",
       "      <td>Male</td>\n",
       "      <td>Net migration</td>\n",
       "      <td>Thousand</td>\n",
       "      <td>NaN</td>\n",
       "    </tr>\n",
       "    <tr>\n",
       "      <th>13</th>\n",
       "      <td>Estimated Migration (Persons in April)</td>\n",
       "      <td>1987</td>\n",
       "      <td>0 - 14 years</td>\n",
       "      <td>Male</td>\n",
       "      <td>Emigrants: All destinations</td>\n",
       "      <td>Thousand</td>\n",
       "      <td>1.4</td>\n",
       "    </tr>\n",
       "    <tr>\n",
       "      <th>14</th>\n",
       "      <td>Estimated Migration (Persons in April)</td>\n",
       "      <td>1987</td>\n",
       "      <td>0 - 14 years</td>\n",
       "      <td>Male</td>\n",
       "      <td>Immigrants: All origins</td>\n",
       "      <td>Thousand</td>\n",
       "      <td>1.3</td>\n",
       "    </tr>\n",
       "  </tbody>\n",
       "</table>\n",
       "</div>"
      ],
      "text/plain": [
       "                           STATISTIC Label  Year     Age Group         Sex  \\\n",
       "0   Estimated Migration (Persons in April)  1987      All ages  Both sexes   \n",
       "1   Estimated Migration (Persons in April)  1987      All ages  Both sexes   \n",
       "2   Estimated Migration (Persons in April)  1987      All ages  Both sexes   \n",
       "3   Estimated Migration (Persons in April)  1987      All ages        Male   \n",
       "4   Estimated Migration (Persons in April)  1987      All ages        Male   \n",
       "5   Estimated Migration (Persons in April)  1987      All ages        Male   \n",
       "6   Estimated Migration (Persons in April)  1987      All ages      Female   \n",
       "7   Estimated Migration (Persons in April)  1987      All ages      Female   \n",
       "8   Estimated Migration (Persons in April)  1987      All ages      Female   \n",
       "9   Estimated Migration (Persons in April)  1987  0 - 14 years  Both sexes   \n",
       "10  Estimated Migration (Persons in April)  1987  0 - 14 years  Both sexes   \n",
       "11  Estimated Migration (Persons in April)  1987  0 - 14 years  Both sexes   \n",
       "12  Estimated Migration (Persons in April)  1987  0 - 14 years        Male   \n",
       "13  Estimated Migration (Persons in April)  1987  0 - 14 years        Male   \n",
       "14  Estimated Migration (Persons in April)  1987  0 - 14 years        Male   \n",
       "\n",
       "         Inward or Outward Flow      UNIT  VALUE  \n",
       "0                 Net migration  Thousand  -23.0  \n",
       "1   Emigrants: All destinations  Thousand   40.2  \n",
       "2       Immigrants: All origins  Thousand   17.2  \n",
       "3                 Net migration  Thousand    NaN  \n",
       "4   Emigrants: All destinations  Thousand    NaN  \n",
       "5       Immigrants: All origins  Thousand    NaN  \n",
       "6                 Net migration  Thousand    NaN  \n",
       "7   Emigrants: All destinations  Thousand    NaN  \n",
       "8       Immigrants: All origins  Thousand    NaN  \n",
       "9                 Net migration  Thousand    NaN  \n",
       "10  Emigrants: All destinations  Thousand    2.8  \n",
       "11      Immigrants: All origins  Thousand    3.1  \n",
       "12                Net migration  Thousand    NaN  \n",
       "13  Emigrants: All destinations  Thousand    1.4  \n",
       "14      Immigrants: All origins  Thousand    1.3  "
      ]
     },
     "execution_count": 3,
     "metadata": {},
     "output_type": "execute_result"
    }
   ],
   "source": [
    "dfMigration.head(15)"
   ]
  },
  {
   "cell_type": "code",
   "execution_count": 4,
   "id": "5ad088ea",
   "metadata": {},
   "outputs": [
    {
     "data": {
      "text/plain": [
       "(1998, 7)"
      ]
     },
     "execution_count": 4,
     "metadata": {},
     "output_type": "execute_result"
    }
   ],
   "source": [
    "dfMigration.shape"
   ]
  },
  {
   "cell_type": "code",
   "execution_count": 5,
   "id": "f8359f54",
   "metadata": {},
   "outputs": [
    {
     "data": {
      "text/plain": [
       "array(['Both sexes', 'Male', 'Female'], dtype=object)"
      ]
     },
     "execution_count": 5,
     "metadata": {},
     "output_type": "execute_result"
    }
   ],
   "source": [
    "dfMigration['Sex'].unique()"
   ]
  },
  {
   "cell_type": "code",
   "execution_count": 6,
   "id": "48ba6462",
   "metadata": {},
   "outputs": [
    {
     "data": {
      "text/plain": [
       "array(['All ages', '0 - 14 years', '15 - 24 years', '25 - 44 years',\n",
       "       '45 - 64 years', '65 years and over'], dtype=object)"
      ]
     },
     "execution_count": 6,
     "metadata": {},
     "output_type": "execute_result"
    }
   ],
   "source": [
    "dfMigration['Age Group'].unique()"
   ]
  },
  {
   "cell_type": "code",
   "execution_count": 7,
   "id": "f247cb46",
   "metadata": {},
   "outputs": [
    {
     "data": {
      "text/plain": [
       "STATISTIC Label            object\n",
       "Year                        int64\n",
       "Age Group                  object\n",
       "Sex                        object\n",
       "Inward or Outward Flow     object\n",
       "UNIT                       object\n",
       "VALUE                     float64\n",
       "dtype: object"
      ]
     },
     "execution_count": 7,
     "metadata": {},
     "output_type": "execute_result"
    }
   ],
   "source": [
    "dfMigration.dtypes"
   ]
  },
  {
   "cell_type": "code",
   "execution_count": 8,
   "id": "c2330ce9",
   "metadata": {},
   "outputs": [
    {
     "data": {
      "text/plain": [
       "array(['Thousand'], dtype=object)"
      ]
     },
     "execution_count": 8,
     "metadata": {},
     "output_type": "execute_result"
    }
   ],
   "source": [
    "dfMigration.UNIT.unique() #Checking that the value dor UNIT and STATISTIC value are the same for all to delete these features"
   ]
  },
  {
   "cell_type": "code",
   "execution_count": 9,
   "id": "525656ec",
   "metadata": {},
   "outputs": [],
   "source": [
    "dfMigration = dfMigration.drop(['UNIT','STATISTIC Label'],axis=1)"
   ]
  },
  {
   "cell_type": "code",
   "execution_count": 10,
   "id": "28da869a",
   "metadata": {},
   "outputs": [
    {
     "data": {
      "text/html": [
       "<div>\n",
       "<style scoped>\n",
       "    .dataframe tbody tr th:only-of-type {\n",
       "        vertical-align: middle;\n",
       "    }\n",
       "\n",
       "    .dataframe tbody tr th {\n",
       "        vertical-align: top;\n",
       "    }\n",
       "\n",
       "    .dataframe thead th {\n",
       "        text-align: right;\n",
       "    }\n",
       "</style>\n",
       "<table border=\"1\" class=\"dataframe\">\n",
       "  <thead>\n",
       "    <tr style=\"text-align: right;\">\n",
       "      <th></th>\n",
       "      <th>Year</th>\n",
       "      <th>Age Group</th>\n",
       "      <th>Sex</th>\n",
       "      <th>Inward or Outward Flow</th>\n",
       "      <th>VALUE</th>\n",
       "    </tr>\n",
       "  </thead>\n",
       "  <tbody>\n",
       "    <tr>\n",
       "      <th>0</th>\n",
       "      <td>1987</td>\n",
       "      <td>All ages</td>\n",
       "      <td>Both sexes</td>\n",
       "      <td>Net migration</td>\n",
       "      <td>-23.0</td>\n",
       "    </tr>\n",
       "    <tr>\n",
       "      <th>1</th>\n",
       "      <td>1987</td>\n",
       "      <td>All ages</td>\n",
       "      <td>Both sexes</td>\n",
       "      <td>Emigrants: All destinations</td>\n",
       "      <td>40.2</td>\n",
       "    </tr>\n",
       "    <tr>\n",
       "      <th>2</th>\n",
       "      <td>1987</td>\n",
       "      <td>All ages</td>\n",
       "      <td>Both sexes</td>\n",
       "      <td>Immigrants: All origins</td>\n",
       "      <td>17.2</td>\n",
       "    </tr>\n",
       "    <tr>\n",
       "      <th>3</th>\n",
       "      <td>1987</td>\n",
       "      <td>All ages</td>\n",
       "      <td>Male</td>\n",
       "      <td>Net migration</td>\n",
       "      <td>NaN</td>\n",
       "    </tr>\n",
       "    <tr>\n",
       "      <th>4</th>\n",
       "      <td>1987</td>\n",
       "      <td>All ages</td>\n",
       "      <td>Male</td>\n",
       "      <td>Emigrants: All destinations</td>\n",
       "      <td>NaN</td>\n",
       "    </tr>\n",
       "  </tbody>\n",
       "</table>\n",
       "</div>"
      ],
      "text/plain": [
       "   Year Age Group         Sex       Inward or Outward Flow  VALUE\n",
       "0  1987  All ages  Both sexes                Net migration  -23.0\n",
       "1  1987  All ages  Both sexes  Emigrants: All destinations   40.2\n",
       "2  1987  All ages  Both sexes      Immigrants: All origins   17.2\n",
       "3  1987  All ages        Male                Net migration    NaN\n",
       "4  1987  All ages        Male  Emigrants: All destinations    NaN"
      ]
     },
     "execution_count": 10,
     "metadata": {},
     "output_type": "execute_result"
    }
   ],
   "source": [
    "dfMigration.head()"
   ]
  },
  {
   "cell_type": "code",
   "execution_count": 11,
   "id": "bc4986c1",
   "metadata": {},
   "outputs": [
    {
     "data": {
      "text/plain": [
       "315"
      ]
     },
     "execution_count": 11,
     "metadata": {},
     "output_type": "execute_result"
    }
   ],
   "source": [
    "dfMigration['VALUE'].isna().sum()"
   ]
  },
  {
   "cell_type": "code",
   "execution_count": 12,
   "id": "84588c8e",
   "metadata": {},
   "outputs": [],
   "source": [
    "#dfMigration.loc[dfMigration['Sex']=='Both sexes']"
   ]
  },
  {
   "cell_type": "code",
   "execution_count": 13,
   "id": "39b13091",
   "metadata": {},
   "outputs": [
    {
     "data": {
      "text/plain": [
       "Year                       0\n",
       "Age Group                  0\n",
       "Sex                        0\n",
       "Inward or Outward Flow     0\n",
       "VALUE                     75\n",
       "dtype: int64"
      ]
     },
     "execution_count": 13,
     "metadata": {},
     "output_type": "execute_result"
    }
   ],
   "source": [
    "dfMigration.loc[dfMigration['Sex']=='Both sexes'].isna().sum()"
   ]
  },
  {
   "cell_type": "code",
   "execution_count": 14,
   "id": "02f4dc68",
   "metadata": {},
   "outputs": [
    {
     "data": {
      "text/plain": [
       "Year                        0\n",
       "Age Group                   0\n",
       "Sex                         0\n",
       "Inward or Outward Flow      0\n",
       "VALUE                     315\n",
       "dtype: int64"
      ]
     },
     "execution_count": 14,
     "metadata": {},
     "output_type": "execute_result"
    }
   ],
   "source": [
    "dfMigration.isna().sum()"
   ]
  },
  {
   "cell_type": "code",
   "execution_count": 15,
   "id": "ec2baac7",
   "metadata": {},
   "outputs": [
    {
     "data": {
      "text/plain": [
       "Year                        0\n",
       "Age Group                   0\n",
       "Sex                         0\n",
       "Inward or Outward Flow      0\n",
       "VALUE                     120\n",
       "dtype: int64"
      ]
     },
     "execution_count": 15,
     "metadata": {},
     "output_type": "execute_result"
    }
   ],
   "source": [
    "dfMigration.loc[dfMigration['Sex']=='Female'].isna().sum()"
   ]
  },
  {
   "cell_type": "code",
   "execution_count": 16,
   "id": "41b19bc7",
   "metadata": {},
   "outputs": [
    {
     "data": {
      "text/plain": [
       "Year                       0\n",
       "Age Group                  0\n",
       "Sex                        0\n",
       "Inward or Outward Flow     0\n",
       "VALUE                     90\n",
       "dtype: int64"
      ]
     },
     "execution_count": 16,
     "metadata": {},
     "output_type": "execute_result"
    }
   ],
   "source": [
    "dfMigration.loc[dfMigration['Age Group']=='All ages'].isna().sum()"
   ]
  },
  {
   "cell_type": "code",
   "execution_count": 17,
   "id": "fd197a19",
   "metadata": {},
   "outputs": [
    {
     "data": {
      "text/plain": [
       "Year                        0\n",
       "Age Group                   0\n",
       "Sex                         0\n",
       "Inward or Outward Flow      0\n",
       "VALUE                     255\n",
       "dtype: int64"
      ]
     },
     "execution_count": 17,
     "metadata": {},
     "output_type": "execute_result"
    }
   ],
   "source": [
    "dfMigration.loc[dfMigration['Inward or Outward Flow']=='Net migration'].isna().sum()"
   ]
  },
  {
   "cell_type": "code",
   "execution_count": 18,
   "id": "df64c037",
   "metadata": {},
   "outputs": [],
   "source": [
    "#Most na values are from Net Migration, which value seems to come from Emigrants minus Immigrants, which we can validate"
   ]
  },
  {
   "cell_type": "code",
   "execution_count": 19,
   "id": "881c92ad",
   "metadata": {},
   "outputs": [
    {
     "data": {
      "text/html": [
       "<div>\n",
       "<style scoped>\n",
       "    .dataframe tbody tr th:only-of-type {\n",
       "        vertical-align: middle;\n",
       "    }\n",
       "\n",
       "    .dataframe tbody tr th {\n",
       "        vertical-align: top;\n",
       "    }\n",
       "\n",
       "    .dataframe thead th {\n",
       "        text-align: right;\n",
       "    }\n",
       "</style>\n",
       "<table border=\"1\" class=\"dataframe\">\n",
       "  <thead>\n",
       "    <tr style=\"text-align: right;\">\n",
       "      <th></th>\n",
       "      <th>Year</th>\n",
       "      <th>Age Group</th>\n",
       "      <th>Sex</th>\n",
       "      <th>Inward or Outward Flow</th>\n",
       "      <th>VALUE</th>\n",
       "    </tr>\n",
       "  </thead>\n",
       "  <tbody>\n",
       "    <tr>\n",
       "      <th>0</th>\n",
       "      <td>1987</td>\n",
       "      <td>All ages</td>\n",
       "      <td>Both sexes</td>\n",
       "      <td>Net migration</td>\n",
       "      <td>-23.0</td>\n",
       "    </tr>\n",
       "    <tr>\n",
       "      <th>1</th>\n",
       "      <td>1987</td>\n",
       "      <td>All ages</td>\n",
       "      <td>Both sexes</td>\n",
       "      <td>Emigrants: All destinations</td>\n",
       "      <td>40.2</td>\n",
       "    </tr>\n",
       "    <tr>\n",
       "      <th>2</th>\n",
       "      <td>1987</td>\n",
       "      <td>All ages</td>\n",
       "      <td>Both sexes</td>\n",
       "      <td>Immigrants: All origins</td>\n",
       "      <td>17.2</td>\n",
       "    </tr>\n",
       "    <tr>\n",
       "      <th>3</th>\n",
       "      <td>1987</td>\n",
       "      <td>All ages</td>\n",
       "      <td>Male</td>\n",
       "      <td>Net migration</td>\n",
       "      <td>NaN</td>\n",
       "    </tr>\n",
       "    <tr>\n",
       "      <th>4</th>\n",
       "      <td>1987</td>\n",
       "      <td>All ages</td>\n",
       "      <td>Male</td>\n",
       "      <td>Emigrants: All destinations</td>\n",
       "      <td>NaN</td>\n",
       "    </tr>\n",
       "    <tr>\n",
       "      <th>5</th>\n",
       "      <td>1987</td>\n",
       "      <td>All ages</td>\n",
       "      <td>Male</td>\n",
       "      <td>Immigrants: All origins</td>\n",
       "      <td>NaN</td>\n",
       "    </tr>\n",
       "    <tr>\n",
       "      <th>6</th>\n",
       "      <td>1987</td>\n",
       "      <td>All ages</td>\n",
       "      <td>Female</td>\n",
       "      <td>Net migration</td>\n",
       "      <td>NaN</td>\n",
       "    </tr>\n",
       "    <tr>\n",
       "      <th>7</th>\n",
       "      <td>1987</td>\n",
       "      <td>All ages</td>\n",
       "      <td>Female</td>\n",
       "      <td>Emigrants: All destinations</td>\n",
       "      <td>NaN</td>\n",
       "    </tr>\n",
       "    <tr>\n",
       "      <th>8</th>\n",
       "      <td>1987</td>\n",
       "      <td>All ages</td>\n",
       "      <td>Female</td>\n",
       "      <td>Immigrants: All origins</td>\n",
       "      <td>NaN</td>\n",
       "    </tr>\n",
       "    <tr>\n",
       "      <th>9</th>\n",
       "      <td>1987</td>\n",
       "      <td>0 - 14 years</td>\n",
       "      <td>Both sexes</td>\n",
       "      <td>Net migration</td>\n",
       "      <td>NaN</td>\n",
       "    </tr>\n",
       "    <tr>\n",
       "      <th>10</th>\n",
       "      <td>1987</td>\n",
       "      <td>0 - 14 years</td>\n",
       "      <td>Both sexes</td>\n",
       "      <td>Emigrants: All destinations</td>\n",
       "      <td>2.8</td>\n",
       "    </tr>\n",
       "    <tr>\n",
       "      <th>11</th>\n",
       "      <td>1987</td>\n",
       "      <td>0 - 14 years</td>\n",
       "      <td>Both sexes</td>\n",
       "      <td>Immigrants: All origins</td>\n",
       "      <td>3.1</td>\n",
       "    </tr>\n",
       "    <tr>\n",
       "      <th>12</th>\n",
       "      <td>1987</td>\n",
       "      <td>0 - 14 years</td>\n",
       "      <td>Male</td>\n",
       "      <td>Net migration</td>\n",
       "      <td>NaN</td>\n",
       "    </tr>\n",
       "    <tr>\n",
       "      <th>13</th>\n",
       "      <td>1987</td>\n",
       "      <td>0 - 14 years</td>\n",
       "      <td>Male</td>\n",
       "      <td>Emigrants: All destinations</td>\n",
       "      <td>1.4</td>\n",
       "    </tr>\n",
       "    <tr>\n",
       "      <th>14</th>\n",
       "      <td>1987</td>\n",
       "      <td>0 - 14 years</td>\n",
       "      <td>Male</td>\n",
       "      <td>Immigrants: All origins</td>\n",
       "      <td>1.3</td>\n",
       "    </tr>\n",
       "  </tbody>\n",
       "</table>\n",
       "</div>"
      ],
      "text/plain": [
       "    Year     Age Group         Sex       Inward or Outward Flow  VALUE\n",
       "0   1987      All ages  Both sexes                Net migration  -23.0\n",
       "1   1987      All ages  Both sexes  Emigrants: All destinations   40.2\n",
       "2   1987      All ages  Both sexes      Immigrants: All origins   17.2\n",
       "3   1987      All ages        Male                Net migration    NaN\n",
       "4   1987      All ages        Male  Emigrants: All destinations    NaN\n",
       "5   1987      All ages        Male      Immigrants: All origins    NaN\n",
       "6   1987      All ages      Female                Net migration    NaN\n",
       "7   1987      All ages      Female  Emigrants: All destinations    NaN\n",
       "8   1987      All ages      Female      Immigrants: All origins    NaN\n",
       "9   1987  0 - 14 years  Both sexes                Net migration    NaN\n",
       "10  1987  0 - 14 years  Both sexes  Emigrants: All destinations    2.8\n",
       "11  1987  0 - 14 years  Both sexes      Immigrants: All origins    3.1\n",
       "12  1987  0 - 14 years        Male                Net migration    NaN\n",
       "13  1987  0 - 14 years        Male  Emigrants: All destinations    1.4\n",
       "14  1987  0 - 14 years        Male      Immigrants: All origins    1.3"
      ]
     },
     "execution_count": 19,
     "metadata": {},
     "output_type": "execute_result"
    }
   ],
   "source": [
    "dfMigration.head(15)"
   ]
  },
  {
   "cell_type": "code",
   "execution_count": 20,
   "id": "dd416ff7",
   "metadata": {},
   "outputs": [],
   "source": [
    "dfNoNetMigration = dfMigration.drop(dfMigration[dfMigration['Inward or Outward Flow']=='Net migration'].index) #taking the Net Migration so we can create it later"
   ]
  },
  {
   "cell_type": "code",
   "execution_count": 21,
   "id": "debc8be4",
   "metadata": {},
   "outputs": [
    {
     "name": "stdout",
     "output_type": "stream",
     "text": [
      "<class 'pandas.core.frame.DataFrame'>\n",
      "Int64Index: 1332 entries, 1 to 1997\n",
      "Data columns (total 5 columns):\n",
      " #   Column                  Non-Null Count  Dtype  \n",
      "---  ------                  --------------  -----  \n",
      " 0   Year                    1332 non-null   int64  \n",
      " 1   Age Group               1332 non-null   object \n",
      " 2   Sex                     1332 non-null   object \n",
      " 3   Inward or Outward Flow  1332 non-null   object \n",
      " 4   VALUE                   1272 non-null   float64\n",
      "dtypes: float64(1), int64(1), object(3)\n",
      "memory usage: 62.4+ KB\n"
     ]
    }
   ],
   "source": [
    "dfNoNetMigration.info()"
   ]
  },
  {
   "cell_type": "code",
   "execution_count": 22,
   "id": "97b25008",
   "metadata": {},
   "outputs": [
    {
     "data": {
      "text/html": [
       "<div>\n",
       "<style scoped>\n",
       "    .dataframe tbody tr th:only-of-type {\n",
       "        vertical-align: middle;\n",
       "    }\n",
       "\n",
       "    .dataframe tbody tr th {\n",
       "        vertical-align: top;\n",
       "    }\n",
       "\n",
       "    .dataframe thead th {\n",
       "        text-align: right;\n",
       "    }\n",
       "</style>\n",
       "<table border=\"1\" class=\"dataframe\">\n",
       "  <thead>\n",
       "    <tr style=\"text-align: right;\">\n",
       "      <th></th>\n",
       "      <th>Year</th>\n",
       "      <th>Age Group</th>\n",
       "      <th>Sex</th>\n",
       "      <th>Inward or Outward Flow</th>\n",
       "      <th>VALUE</th>\n",
       "    </tr>\n",
       "  </thead>\n",
       "  <tbody>\n",
       "    <tr>\n",
       "      <th>1</th>\n",
       "      <td>1987</td>\n",
       "      <td>All ages</td>\n",
       "      <td>Both sexes</td>\n",
       "      <td>Emigrants: All destinations</td>\n",
       "      <td>40.2</td>\n",
       "    </tr>\n",
       "    <tr>\n",
       "      <th>2</th>\n",
       "      <td>1987</td>\n",
       "      <td>All ages</td>\n",
       "      <td>Both sexes</td>\n",
       "      <td>Immigrants: All origins</td>\n",
       "      <td>17.2</td>\n",
       "    </tr>\n",
       "    <tr>\n",
       "      <th>4</th>\n",
       "      <td>1987</td>\n",
       "      <td>All ages</td>\n",
       "      <td>Male</td>\n",
       "      <td>Emigrants: All destinations</td>\n",
       "      <td>NaN</td>\n",
       "    </tr>\n",
       "    <tr>\n",
       "      <th>5</th>\n",
       "      <td>1987</td>\n",
       "      <td>All ages</td>\n",
       "      <td>Male</td>\n",
       "      <td>Immigrants: All origins</td>\n",
       "      <td>NaN</td>\n",
       "    </tr>\n",
       "    <tr>\n",
       "      <th>7</th>\n",
       "      <td>1987</td>\n",
       "      <td>All ages</td>\n",
       "      <td>Female</td>\n",
       "      <td>Emigrants: All destinations</td>\n",
       "      <td>NaN</td>\n",
       "    </tr>\n",
       "  </tbody>\n",
       "</table>\n",
       "</div>"
      ],
      "text/plain": [
       "   Year Age Group         Sex       Inward or Outward Flow  VALUE\n",
       "1  1987  All ages  Both sexes  Emigrants: All destinations   40.2\n",
       "2  1987  All ages  Both sexes      Immigrants: All origins   17.2\n",
       "4  1987  All ages        Male  Emigrants: All destinations    NaN\n",
       "5  1987  All ages        Male      Immigrants: All origins    NaN\n",
       "7  1987  All ages      Female  Emigrants: All destinations    NaN"
      ]
     },
     "execution_count": 22,
     "metadata": {},
     "output_type": "execute_result"
    }
   ],
   "source": [
    "dfNoNetMigration.head()"
   ]
  },
  {
   "cell_type": "code",
   "execution_count": 23,
   "id": "a629f894",
   "metadata": {},
   "outputs": [],
   "source": [
    "#dfSum = dfNoNetMigration.groupby(['Year','Age Group','Inward or Outward Flow','Sex']).VALUE.sum().reset_index()"
   ]
  },
  {
   "cell_type": "code",
   "execution_count": 24,
   "id": "3ffbff57",
   "metadata": {},
   "outputs": [
    {
     "data": {
      "text/html": [
       "<div>\n",
       "<style scoped>\n",
       "    .dataframe tbody tr th:only-of-type {\n",
       "        vertical-align: middle;\n",
       "    }\n",
       "\n",
       "    .dataframe tbody tr th {\n",
       "        vertical-align: top;\n",
       "    }\n",
       "\n",
       "    .dataframe thead th {\n",
       "        text-align: right;\n",
       "    }\n",
       "</style>\n",
       "<table border=\"1\" class=\"dataframe\">\n",
       "  <thead>\n",
       "    <tr style=\"text-align: right;\">\n",
       "      <th></th>\n",
       "      <th>Year</th>\n",
       "      <th>Age Group</th>\n",
       "      <th>Sex</th>\n",
       "      <th>Inward or Outward Flow</th>\n",
       "      <th>VALUE</th>\n",
       "    </tr>\n",
       "  </thead>\n",
       "  <tbody>\n",
       "    <tr>\n",
       "      <th>4</th>\n",
       "      <td>1987</td>\n",
       "      <td>All ages</td>\n",
       "      <td>Male</td>\n",
       "      <td>Emigrants: All destinations</td>\n",
       "      <td>NaN</td>\n",
       "    </tr>\n",
       "    <tr>\n",
       "      <th>5</th>\n",
       "      <td>1987</td>\n",
       "      <td>All ages</td>\n",
       "      <td>Male</td>\n",
       "      <td>Immigrants: All origins</td>\n",
       "      <td>NaN</td>\n",
       "    </tr>\n",
       "    <tr>\n",
       "      <th>7</th>\n",
       "      <td>1987</td>\n",
       "      <td>All ages</td>\n",
       "      <td>Female</td>\n",
       "      <td>Emigrants: All destinations</td>\n",
       "      <td>NaN</td>\n",
       "    </tr>\n",
       "    <tr>\n",
       "      <th>8</th>\n",
       "      <td>1987</td>\n",
       "      <td>All ages</td>\n",
       "      <td>Female</td>\n",
       "      <td>Immigrants: All origins</td>\n",
       "      <td>NaN</td>\n",
       "    </tr>\n",
       "    <tr>\n",
       "      <th>58</th>\n",
       "      <td>1988</td>\n",
       "      <td>All ages</td>\n",
       "      <td>Male</td>\n",
       "      <td>Emigrants: All destinations</td>\n",
       "      <td>NaN</td>\n",
       "    </tr>\n",
       "    <tr>\n",
       "      <th>59</th>\n",
       "      <td>1988</td>\n",
       "      <td>All ages</td>\n",
       "      <td>Male</td>\n",
       "      <td>Immigrants: All origins</td>\n",
       "      <td>NaN</td>\n",
       "    </tr>\n",
       "    <tr>\n",
       "      <th>61</th>\n",
       "      <td>1988</td>\n",
       "      <td>All ages</td>\n",
       "      <td>Female</td>\n",
       "      <td>Emigrants: All destinations</td>\n",
       "      <td>NaN</td>\n",
       "    </tr>\n",
       "    <tr>\n",
       "      <th>62</th>\n",
       "      <td>1988</td>\n",
       "      <td>All ages</td>\n",
       "      <td>Female</td>\n",
       "      <td>Immigrants: All origins</td>\n",
       "      <td>NaN</td>\n",
       "    </tr>\n",
       "    <tr>\n",
       "      <th>112</th>\n",
       "      <td>1989</td>\n",
       "      <td>All ages</td>\n",
       "      <td>Male</td>\n",
       "      <td>Emigrants: All destinations</td>\n",
       "      <td>NaN</td>\n",
       "    </tr>\n",
       "    <tr>\n",
       "      <th>113</th>\n",
       "      <td>1989</td>\n",
       "      <td>All ages</td>\n",
       "      <td>Male</td>\n",
       "      <td>Immigrants: All origins</td>\n",
       "      <td>NaN</td>\n",
       "    </tr>\n",
       "    <tr>\n",
       "      <th>115</th>\n",
       "      <td>1989</td>\n",
       "      <td>All ages</td>\n",
       "      <td>Female</td>\n",
       "      <td>Emigrants: All destinations</td>\n",
       "      <td>NaN</td>\n",
       "    </tr>\n",
       "    <tr>\n",
       "      <th>116</th>\n",
       "      <td>1989</td>\n",
       "      <td>All ages</td>\n",
       "      <td>Female</td>\n",
       "      <td>Immigrants: All origins</td>\n",
       "      <td>NaN</td>\n",
       "    </tr>\n",
       "    <tr>\n",
       "      <th>166</th>\n",
       "      <td>1990</td>\n",
       "      <td>All ages</td>\n",
       "      <td>Male</td>\n",
       "      <td>Emigrants: All destinations</td>\n",
       "      <td>NaN</td>\n",
       "    </tr>\n",
       "    <tr>\n",
       "      <th>167</th>\n",
       "      <td>1990</td>\n",
       "      <td>All ages</td>\n",
       "      <td>Male</td>\n",
       "      <td>Immigrants: All origins</td>\n",
       "      <td>NaN</td>\n",
       "    </tr>\n",
       "    <tr>\n",
       "      <th>169</th>\n",
       "      <td>1990</td>\n",
       "      <td>All ages</td>\n",
       "      <td>Female</td>\n",
       "      <td>Emigrants: All destinations</td>\n",
       "      <td>NaN</td>\n",
       "    </tr>\n",
       "  </tbody>\n",
       "</table>\n",
       "</div>"
      ],
      "text/plain": [
       "     Year Age Group     Sex       Inward or Outward Flow  VALUE\n",
       "4    1987  All ages    Male  Emigrants: All destinations    NaN\n",
       "5    1987  All ages    Male      Immigrants: All origins    NaN\n",
       "7    1987  All ages  Female  Emigrants: All destinations    NaN\n",
       "8    1987  All ages  Female      Immigrants: All origins    NaN\n",
       "58   1988  All ages    Male  Emigrants: All destinations    NaN\n",
       "59   1988  All ages    Male      Immigrants: All origins    NaN\n",
       "61   1988  All ages  Female  Emigrants: All destinations    NaN\n",
       "62   1988  All ages  Female      Immigrants: All origins    NaN\n",
       "112  1989  All ages    Male  Emigrants: All destinations    NaN\n",
       "113  1989  All ages    Male      Immigrants: All origins    NaN\n",
       "115  1989  All ages  Female  Emigrants: All destinations    NaN\n",
       "116  1989  All ages  Female      Immigrants: All origins    NaN\n",
       "166  1990  All ages    Male  Emigrants: All destinations    NaN\n",
       "167  1990  All ages    Male      Immigrants: All origins    NaN\n",
       "169  1990  All ages  Female  Emigrants: All destinations    NaN"
      ]
     },
     "execution_count": 24,
     "metadata": {},
     "output_type": "execute_result"
    }
   ],
   "source": [
    "dfNoNetMigration.loc[dfNoNetMigration['VALUE'].isnull()].head(15)"
   ]
  },
  {
   "cell_type": "code",
   "execution_count": 25,
   "id": "326360bd",
   "metadata": {},
   "outputs": [
    {
     "data": {
      "text/plain": [
       "array(['All ages'], dtype=object)"
      ]
     },
     "execution_count": 25,
     "metadata": {},
     "output_type": "execute_result"
    }
   ],
   "source": [
    "dfNoNetMigration.loc[dfNoNetMigration['VALUE'].isnull()]['Age Group'].unique() #NaN values are located in \"All ages\", which comes from the addition of other rows, so we can prescind of them\n"
   ]
  },
  {
   "cell_type": "code",
   "execution_count": 26,
   "id": "f644f138",
   "metadata": {},
   "outputs": [],
   "source": [
    "dfNoNetMigration.drop(dfNoNetMigration[(dfNoNetMigration['Age Group'] == 'All ages')].index, inplace=True)"
   ]
  },
  {
   "cell_type": "code",
   "execution_count": 27,
   "id": "403c54e8",
   "metadata": {},
   "outputs": [
    {
     "data": {
      "text/html": [
       "<div>\n",
       "<style scoped>\n",
       "    .dataframe tbody tr th:only-of-type {\n",
       "        vertical-align: middle;\n",
       "    }\n",
       "\n",
       "    .dataframe tbody tr th {\n",
       "        vertical-align: top;\n",
       "    }\n",
       "\n",
       "    .dataframe thead th {\n",
       "        text-align: right;\n",
       "    }\n",
       "</style>\n",
       "<table border=\"1\" class=\"dataframe\">\n",
       "  <thead>\n",
       "    <tr style=\"text-align: right;\">\n",
       "      <th></th>\n",
       "      <th>Year</th>\n",
       "      <th>Age Group</th>\n",
       "      <th>Sex</th>\n",
       "      <th>Inward or Outward Flow</th>\n",
       "      <th>VALUE</th>\n",
       "    </tr>\n",
       "  </thead>\n",
       "  <tbody>\n",
       "    <tr>\n",
       "      <th>10</th>\n",
       "      <td>1987</td>\n",
       "      <td>0 - 14 years</td>\n",
       "      <td>Both sexes</td>\n",
       "      <td>Emigrants: All destinations</td>\n",
       "      <td>2.8</td>\n",
       "    </tr>\n",
       "    <tr>\n",
       "      <th>11</th>\n",
       "      <td>1987</td>\n",
       "      <td>0 - 14 years</td>\n",
       "      <td>Both sexes</td>\n",
       "      <td>Immigrants: All origins</td>\n",
       "      <td>3.1</td>\n",
       "    </tr>\n",
       "    <tr>\n",
       "      <th>13</th>\n",
       "      <td>1987</td>\n",
       "      <td>0 - 14 years</td>\n",
       "      <td>Male</td>\n",
       "      <td>Emigrants: All destinations</td>\n",
       "      <td>1.4</td>\n",
       "    </tr>\n",
       "    <tr>\n",
       "      <th>14</th>\n",
       "      <td>1987</td>\n",
       "      <td>0 - 14 years</td>\n",
       "      <td>Male</td>\n",
       "      <td>Immigrants: All origins</td>\n",
       "      <td>1.3</td>\n",
       "    </tr>\n",
       "    <tr>\n",
       "      <th>16</th>\n",
       "      <td>1987</td>\n",
       "      <td>0 - 14 years</td>\n",
       "      <td>Female</td>\n",
       "      <td>Emigrants: All destinations</td>\n",
       "      <td>1.3</td>\n",
       "    </tr>\n",
       "    <tr>\n",
       "      <th>17</th>\n",
       "      <td>1987</td>\n",
       "      <td>0 - 14 years</td>\n",
       "      <td>Female</td>\n",
       "      <td>Immigrants: All origins</td>\n",
       "      <td>1.8</td>\n",
       "    </tr>\n",
       "    <tr>\n",
       "      <th>19</th>\n",
       "      <td>1987</td>\n",
       "      <td>15 - 24 years</td>\n",
       "      <td>Both sexes</td>\n",
       "      <td>Emigrants: All destinations</td>\n",
       "      <td>24.0</td>\n",
       "    </tr>\n",
       "    <tr>\n",
       "      <th>20</th>\n",
       "      <td>1987</td>\n",
       "      <td>15 - 24 years</td>\n",
       "      <td>Both sexes</td>\n",
       "      <td>Immigrants: All origins</td>\n",
       "      <td>5.1</td>\n",
       "    </tr>\n",
       "    <tr>\n",
       "      <th>22</th>\n",
       "      <td>1987</td>\n",
       "      <td>15 - 24 years</td>\n",
       "      <td>Male</td>\n",
       "      <td>Emigrants: All destinations</td>\n",
       "      <td>12.3</td>\n",
       "    </tr>\n",
       "    <tr>\n",
       "      <th>23</th>\n",
       "      <td>1987</td>\n",
       "      <td>15 - 24 years</td>\n",
       "      <td>Male</td>\n",
       "      <td>Immigrants: All origins</td>\n",
       "      <td>1.9</td>\n",
       "    </tr>\n",
       "    <tr>\n",
       "      <th>25</th>\n",
       "      <td>1987</td>\n",
       "      <td>15 - 24 years</td>\n",
       "      <td>Female</td>\n",
       "      <td>Emigrants: All destinations</td>\n",
       "      <td>11.7</td>\n",
       "    </tr>\n",
       "    <tr>\n",
       "      <th>26</th>\n",
       "      <td>1987</td>\n",
       "      <td>15 - 24 years</td>\n",
       "      <td>Female</td>\n",
       "      <td>Immigrants: All origins</td>\n",
       "      <td>3.2</td>\n",
       "    </tr>\n",
       "    <tr>\n",
       "      <th>28</th>\n",
       "      <td>1987</td>\n",
       "      <td>25 - 44 years</td>\n",
       "      <td>Both sexes</td>\n",
       "      <td>Emigrants: All destinations</td>\n",
       "      <td>11.8</td>\n",
       "    </tr>\n",
       "    <tr>\n",
       "      <th>29</th>\n",
       "      <td>1987</td>\n",
       "      <td>25 - 44 years</td>\n",
       "      <td>Both sexes</td>\n",
       "      <td>Immigrants: All origins</td>\n",
       "      <td>6.1</td>\n",
       "    </tr>\n",
       "    <tr>\n",
       "      <th>31</th>\n",
       "      <td>1987</td>\n",
       "      <td>25 - 44 years</td>\n",
       "      <td>Male</td>\n",
       "      <td>Emigrants: All destinations</td>\n",
       "      <td>6.9</td>\n",
       "    </tr>\n",
       "  </tbody>\n",
       "</table>\n",
       "</div>"
      ],
      "text/plain": [
       "    Year      Age Group         Sex       Inward or Outward Flow  VALUE\n",
       "10  1987   0 - 14 years  Both sexes  Emigrants: All destinations    2.8\n",
       "11  1987   0 - 14 years  Both sexes      Immigrants: All origins    3.1\n",
       "13  1987   0 - 14 years        Male  Emigrants: All destinations    1.4\n",
       "14  1987   0 - 14 years        Male      Immigrants: All origins    1.3\n",
       "16  1987   0 - 14 years      Female  Emigrants: All destinations    1.3\n",
       "17  1987   0 - 14 years      Female      Immigrants: All origins    1.8\n",
       "19  1987  15 - 24 years  Both sexes  Emigrants: All destinations   24.0\n",
       "20  1987  15 - 24 years  Both sexes      Immigrants: All origins    5.1\n",
       "22  1987  15 - 24 years        Male  Emigrants: All destinations   12.3\n",
       "23  1987  15 - 24 years        Male      Immigrants: All origins    1.9\n",
       "25  1987  15 - 24 years      Female  Emigrants: All destinations   11.7\n",
       "26  1987  15 - 24 years      Female      Immigrants: All origins    3.2\n",
       "28  1987  25 - 44 years  Both sexes  Emigrants: All destinations   11.8\n",
       "29  1987  25 - 44 years  Both sexes      Immigrants: All origins    6.1\n",
       "31  1987  25 - 44 years        Male  Emigrants: All destinations    6.9"
      ]
     },
     "execution_count": 27,
     "metadata": {},
     "output_type": "execute_result"
    }
   ],
   "source": [
    "#dfSum.groupby(['Year'])\n",
    "dfNoNetMigration.head(15)"
   ]
  },
  {
   "cell_type": "code",
   "execution_count": 28,
   "id": "4414b3dd",
   "metadata": {},
   "outputs": [
    {
     "data": {
      "text/plain": [
       "0"
      ]
     },
     "execution_count": 28,
     "metadata": {},
     "output_type": "execute_result"
    }
   ],
   "source": [
    "dfNoNetMigration.VALUE.isnull().sum() #No more null values"
   ]
  },
  {
   "cell_type": "code",
   "execution_count": 29,
   "id": "4dfea741",
   "metadata": {},
   "outputs": [
    {
     "data": {
      "text/plain": [
       "(1110, 5)"
      ]
     },
     "execution_count": 29,
     "metadata": {},
     "output_type": "execute_result"
    }
   ],
   "source": [
    "dfNoNetMigration.shape"
   ]
  },
  {
   "cell_type": "code",
   "execution_count": 30,
   "id": "e49c674b",
   "metadata": {},
   "outputs": [
    {
     "data": {
      "text/plain": [
       "0"
      ]
     },
     "execution_count": 30,
     "metadata": {},
     "output_type": "execute_result"
    }
   ],
   "source": [
    "dfNoNetMigration.duplicated().sum() #No duplicate records"
   ]
  },
  {
   "cell_type": "code",
   "execution_count": 31,
   "id": "66521d75",
   "metadata": {},
   "outputs": [
    {
     "data": {
      "text/plain": [
       "Year                      1110\n",
       "Age Group                 1110\n",
       "Sex                       1110\n",
       "Inward or Outward Flow    1110\n",
       "VALUE                     1110\n",
       "dtype: int64"
      ]
     },
     "execution_count": 31,
     "metadata": {},
     "output_type": "execute_result"
    }
   ],
   "source": [
    "dfNoNetMigration.count()"
   ]
  },
  {
   "cell_type": "code",
   "execution_count": 36,
   "id": "b7b9ce2f",
   "metadata": {},
   "outputs": [
    {
     "data": {
      "text/plain": [
       "<Axes: xlabel='VALUE'>"
      ]
     },
     "execution_count": 36,
     "metadata": {},
     "output_type": "execute_result"
    },
    {
     "data": {
      "image/png": "[encoded data removed]",
      "text/plain": [
       "<Figure size 640x480 with 1 Axes>"
      ]
     },
     "metadata": {},
     "output_type": "display_data"
    }
   ],
   "source": [
    "#Detecting outliers\n",
    "sns.boxplot(x=dfNoNetMigration[dfNoNetMigration.Sex=='Both sexes'].VALUE)"
   ]
  },
  {
   "cell_type": "code",
   "execution_count": 33,
   "id": "36d94cdb",
   "metadata": {},
   "outputs": [],
   "source": [
    "#dfNoNetMigration.loc[dfNoNetMigration['Sex']=='Both sexes'].head(20)"
   ]
  },
  {
   "cell_type": "code",
   "execution_count": 37,
   "id": "5282d2c8",
   "metadata": {},
   "outputs": [
    {
     "data": {
      "text/plain": [
       "<Axes: xlabel='VALUE'>"
      ]
     },
     "execution_count": 37,
     "metadata": {},
     "output_type": "execute_result"
    },
    {
     "data": {
      "image/png": "[encoded data removed]",
      "text/plain": [
       "<Figure size 640x480 with 1 Axes>"
      ]
     },
     "metadata": {},
     "output_type": "display_data"
    }
   ],
   "source": [
    "sns.boxplot(x=dfNoNetMigration[dfNoNetMigration.Sex=='Female'].VALUE)"
   ]
  },
  {
   "cell_type": "code",
   "execution_count": 38,
   "id": "7dfc6669",
   "metadata": {},
   "outputs": [
    {
     "data": {
      "text/plain": [
       "<Axes: xlabel='VALUE'>"
      ]
     },
     "execution_count": 38,
     "metadata": {},
     "output_type": "execute_result"
    },
    {
     "data": {
      "image/png": "[encoded data removed]",
      "text/plain": [
       "<Figure size 640x480 with 1 Axes>"
      ]
     },
     "metadata": {},
     "output_type": "display_data"
    }
   ],
   "source": [
    "sns.boxplot(x=dfNoNetMigration[dfNoNetMigration.Sex=='Male'].VALUE)"
   ]
  },
  {
   "cell_type": "code",
   "execution_count": 40,
   "id": "9091598e",
   "metadata": {},
   "outputs": [
    {
     "name": "stdout",
     "output_type": "stream",
     "text": [
      "Year     18.0\n",
      "VALUE     9.0\n",
      "dtype: float64\n"
     ]
    },
    {
     "name": "stderr",
     "output_type": "stream",
     "text": [
      "C:\\Users\\ruben\\AppData\\Local\\Temp\\ipykernel_3432\\1243635139.py:2: FutureWarning: The default value of numeric_only in DataFrame.quantile is deprecated. In a future version, it will default to False. Select only valid columns or specify the value of numeric_only to silence this warning.\n",
      "  Q1 = dfNoNetMigration.quantile(0.25)\n",
      "C:\\Users\\ruben\\AppData\\Local\\Temp\\ipykernel_3432\\1243635139.py:3: FutureWarning: The default value of numeric_only in DataFrame.quantile is deprecated. In a future version, it will default to False. Select only valid columns or specify the value of numeric_only to silence this warning.\n",
      "  Q3 = dfNoNetMigration.quantile(0.75)\n"
     ]
    }
   ],
   "source": [
    "#Removing the outliers\n",
    "Q1 = dfNoNetMigration.quantile(0.25)\n",
    "Q3 = dfNoNetMigration.quantile(0.75)\n",
    "IQR = Q3 - Q1\n",
    "print(IQR)"
   ]
  },
  {
   "cell_type": "code",
   "execution_count": null,
   "id": "bfd90036",
   "metadata": {},
   "outputs": [],
   "source": []
  }
 ],
 "metadata": {
  "kernelspec": {
   "display_name": "Python 3 (ipykernel)",
   "language": "python",
   "name": "python3"
  },
  "language_info": {
   "codemirror_mode": {
    "name": "ipython",
    "version": 3
   },
   "file_extension": ".py",
   "mimetype": "text/x-python",
   "name": "python",
   "nbconvert_exporter": "python",
   "pygments_lexer": "ipython3",
   "version": "3.11.4"
  }
 },
 "nbformat": 4,
 "nbformat_minor": 5
}
